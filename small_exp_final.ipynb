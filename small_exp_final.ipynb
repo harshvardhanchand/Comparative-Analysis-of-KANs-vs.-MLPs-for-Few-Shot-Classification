{
  "cells": [
    {
      "cell_type": "code",
      "execution_count": null,
      "metadata": {
        "id": "BDrAnRSyK_O5"
      },
      "outputs": [],
      "source": []
    },
    {
      "cell_type": "code",
      "execution_count": 1,
      "metadata": {
        "colab": {
          "base_uri": "https://localhost:8080/"
        },
        "id": "s6u8yQIvK_AF",
        "outputId": "281f8b71-d958-4f12-ac67-5552c9326260"
      },
      "outputs": [
        {
          "name": "stdout",
          "output_type": "stream",
          "text": [
            "\u001b[?25l   \u001b[90m━━━━━━━━━━━━━━━━━━━━━━━━━━━━━━━━━━━━━━━━\u001b[0m \u001b[32m0.0/78.1 kB\u001b[0m \u001b[31m?\u001b[0m eta \u001b[36m-:--:--\u001b[0m\r\u001b[2K   \u001b[90m━━━━━━━━━━━━━━━━━━━━━━━━━━━━━━━━━━━━━━━━\u001b[0m \u001b[32m78.1/78.1 kB\u001b[0m \u001b[31m3.8 MB/s\u001b[0m eta \u001b[36m0:00:00\u001b[0m\n",
            "\u001b[?25h  Preparing metadata (setup.py) ... \u001b[?25l\u001b[?25hdone\n",
            "  Building wheel for fastkan (setup.py) ... \u001b[?25l\u001b[?25hdone\n",
            "\u001b[2K   \u001b[90m━━━━━━━━━━━━━━━━━━━━━━━━━━━━━━━━━━━━━━━━\u001b[0m \u001b[32m1.6/1.6 MB\u001b[0m \u001b[31m31.4 MB/s\u001b[0m eta \u001b[36m0:00:00\u001b[0m\n",
            "\u001b[?25h"
          ]
        }
      ],
      "source": [
        "%pip install --quiet pykan\n",
        "%pip install --quiet git+https://github.com/ZiyaoLi/fast-kan.git\n",
        "\n",
        "%pip install ipywidgets --quiet"
      ]
    },
    {
      "cell_type": "code",
      "execution_count": null,
      "metadata": {},
      "outputs": [],
      "source": []
    },
    {
      "cell_type": "code",
      "execution_count": 2,
      "metadata": {
        "id": "oEzSscLVmiNa"
      },
      "outputs": [],
      "source": [
        "import argparse\n",
        "import csv\n",
        "import math\n",
        "import os\n",
        "import random\n",
        "import time\n",
        "from dataclasses import dataclass\n",
        "from typing import Tuple, List, Dict\n",
        "import numpy as np\n",
        "import torch\n",
        "import torch.nn as nn\n",
        "import torch.nn.functional as F\n",
        "from torch.utils.data import DataLoader, Subset, random_split\n",
        "from torchvision import datasets, transforms, models\n",
        "from torch.utils.data import Dataset\n",
        "from kan import KAN as PyKAN\n",
        "from fastkan import FastKAN as FastKANNet\n",
        "import pandas as pd\n",
        "import matplotlib.pyplot as plt\n",
        "import ipywidgets as W\n",
        "from IPython.display import display, clear_output\n",
        "from torch.utils.data import TensorDataset\n",
        "from IPython.display import display as _display\n",
        "from google.colab import drive\n",
        "from pathlib import Path\n",
        "from torch.optim.lr_scheduler import CosineAnnealingLR\n",
        "from torch.amp import GradScaler, autocast"
      ]
    },
    {
      "cell_type": "code",
      "execution_count": 3,
      "metadata": {
        "id": "BgtEu0RfmiNb"
      },
      "outputs": [],
      "source": [
        "def set_seed(seed: int):\n",
        "  random.seed(seed)\n",
        "  np.random.seed(seed)\n",
        "  torch.manual_seed(seed)\n",
        "  torch.cuda.manual_seed_all(seed)\n",
        "\n",
        "\n",
        "def count_params(module: nn.Module) -> int:\n",
        "  return sum(p.numel() for p in module.parameters() if p.requires_grad)\n",
        "\n",
        "\n",
        "def accuracy_top1(logits: torch.Tensor, targets: torch.Tensor) -> float:\n",
        "  preds = logits.argmax(dim=1)\n",
        "  return (preds == targets).float().mean().item()\n",
        "\n",
        "\n",
        "def nll_criterion(logits: torch.Tensor, targets: torch.Tensor) -> torch.Tensor:\n",
        "  return F.cross_entropy(logits, targets, reduction=\"mean\")\n",
        "\n",
        "\n",
        "def brier_score(logits: torch.Tensor, targets: torch.Tensor) -> float:\n",
        "  probs = F.softmax(logits, dim=1)\n",
        "  targets_oh = F.one_hot(targets, num_classes=probs.size(1)).float()\n",
        "  return ((probs - targets_oh) ** 2).sum(dim=1).mean().item()\n",
        "\n",
        "\n",
        "def ece_score(logits: torch.Tensor, targets: torch.Tensor, n_bins: int = 10) -> float:\n",
        "  probs = torch.softmax(logits, dim=1)\n",
        "  conf, preds = probs.max(dim=1)\n",
        "  correct = preds.eq(targets).float()\n",
        "  conf_sorted, idx = torch.sort(conf)\n",
        "  correct_sorted = correct[idx]\n",
        "  N = conf.numel()\n",
        "  if N == 0:\n",
        "    return 0.0\n",
        "  edges = torch.linspace(0, N, steps=n_bins + 1, device=logits.device).round().long()\n",
        "\n",
        "  ece = torch.zeros((), device=logits.device)\n",
        "  for i in range(n_bins):\n",
        "    lo, hi = edges[i].item(), edges[i + 1].item()\n",
        "    if hi <= lo:\n",
        "      continue\n",
        "    conf_bin = conf_sorted[lo:hi].mean()\n",
        "    acc_bin = correct_sorted[lo:hi].mean()\n",
        "    weight = (hi - lo) / N\n",
        "    ece += weight * (acc_bin - conf_bin).abs()\n",
        "  return ece.item()\n",
        "\n",
        "\n"
      ]
    },
    {
      "cell_type": "code",
      "execution_count": 4,
      "metadata": {
        "id": "O49X1NDUmjaW"
      },
      "outputs": [],
      "source": [
        "class WrappedDataset(Dataset):\n",
        "  def __init__(self, base, transform):\n",
        "    self.base = base\n",
        "    self.transform = transform\n",
        "\n",
        "  def __len__(self):\n",
        "    return len(self.base)\n",
        "\n",
        "  @property\n",
        "  def targets(self):\n",
        "    return self.base.targets\n",
        "\n",
        "  def __getitem__(self, i):\n",
        "    x, y = self.base[i]\n",
        "    return self.transform(x), y\n"
      ]
    },
    {
      "cell_type": "code",
      "execution_count": 5,
      "metadata": {
        "id": "yf0ceTXMqpbh"
      },
      "outputs": [],
      "source": [
        "class TemperatureScaler(nn.Module):\n",
        "  def __init__(self, initial_temp=1.5):\n",
        "    super().__init__()\n",
        "    self.temperature = nn.Parameter(torch.ones(1) * initial_temp)\n",
        "\n",
        "  def forward(self, logits):\n",
        "    return logits / self.temperature\n",
        "\n",
        "\n",
        "def find_optimal_temp(logits, labels, device=\"cuda\", max_iter=50, lr=0.01):\n",
        "  scaler = TemperatureScaler().to(device)\n",
        "  logits = logits.to(device)\n",
        "  labels = labels.to(device)\n",
        "  optimizer = torch.optim.LBFGS([scaler.temperature], lr=lr, max_iter=max_iter\n",
        "  )\n",
        "  def closure():\n",
        "    optimizer.zero_grad()\n",
        "    scaled_logits = scaler(logits)\n",
        "    loss = F.cross_entropy(scaled_logits, labels)\n",
        "    loss.backward()\n",
        "    return loss\n",
        "\n",
        "\n",
        "  optimizer.step(closure)\n",
        "  return scaler.temperature.item()"
      ]
    },
    {
      "cell_type": "code",
      "execution_count": 6,
      "metadata": {
        "id": "mI8ROCirmiNc"
      },
      "outputs": [],
      "source": [
        "class LabelSmoothingCE(nn.Module):\n",
        "  def __init__(self, smoothing: float = 0.0):\n",
        "    super().__init__()\n",
        "    self.smoothing = smoothing\n",
        "\n",
        "  def forward(self, logits: torch.Tensor, targets: torch.Tensor) -> torch.Tensor:\n",
        "    if self.smoothing <= 0.0:\n",
        "      return F.cross_entropy(logits, targets)\n",
        "    num_classes = logits.size(1)\n",
        "    log_probs = F.log_softmax(logits, dim=1)\n",
        "    with torch.no_grad():\n",
        "      true_dist = torch.zeros_like(log_probs)\n",
        "      true_dist.fill_(self.smoothing / (num_classes - 1))\n",
        "      true_dist.scatter_(1, targets.unsqueeze(1), 1.0 - self.smoothing)\n",
        "    return torch.mean(torch.sum(-true_dist * log_probs, dim=1))\n",
        "\n"
      ]
    },
    {
      "cell_type": "code",
      "execution_count": 7,
      "metadata": {
        "id": "S2tG3G5CE1X6"
      },
      "outputs": [],
      "source": [
        "\n",
        "class PyKANHead(nn.Module):\n",
        "  def __init__(self,\n",
        "        d_in: int,\n",
        "        d_hid: int,\n",
        "        num_classes: int,\n",
        "        grid: int = 5,\n",
        "        k: int = 3,\n",
        "        base_fun: str = \"silu\",\n",
        "    ):\n",
        "    super().__init__()\n",
        "    self.model = PyKAN(\n",
        "        width=[d_in, d_hid, num_classes],\n",
        "        grid=grid,\n",
        "        k=k,\n",
        "        base_fun=base_fun,\n",
        "        symbolic_enabled=False,\n",
        "    )\n",
        "    if hasattr(self.model, \"speed\"):\n",
        "      self.model.speed()\n",
        "\n",
        "      self.expects_normalized_inputs = True\n",
        "\n",
        "    def forward(self, z):\n",
        "        return self.model(z)\n",
        "\n",
        "\n",
        "class FastKANHead(nn.Module):\n",
        "  def __init__(\n",
        "        self,\n",
        "        d_in: int,\n",
        "        d_hid: int,\n",
        "        num_classes: int,\n",
        "        num_grids: int = 8,\n",
        "        use_base_update: bool = True,\n",
        "    ):\n",
        "    super().__init__()\n",
        "    self.model = FastKANNet(\n",
        "            layers_hidden=[d_in, d_hid, num_classes],\n",
        "            num_grids=num_grids,\n",
        "            use_base_update=use_base_update,\n",
        "        )\n",
        "\n",
        "    self.expects_normalized_inputs = True\n",
        "\n",
        "    def forward(self, z):\n",
        "        return self.model(z)\n"
      ]
    },
    {
      "cell_type": "code",
      "execution_count": 8,
      "metadata": {
        "id": "LDReq4mlmiNc"
      },
      "outputs": [],
      "source": [
        "class MLPHead(nn.Module):\n",
        "    def __init__(self, d_in: int, d_hid: int, num_classes: int, dropout: float = 0.0):\n",
        "        super().__init__()\n",
        "        self.net = nn.Sequential(\n",
        "            nn.Linear(d_in, d_hid),\n",
        "            nn.SiLU(inplace=True),\n",
        "            nn.Dropout(dropout),\n",
        "            nn.Linear(d_hid, num_classes),\n",
        "        )\n",
        "\n",
        "    def forward(self, z: torch.Tensor) -> torch.Tensor:\n",
        "        return self.net(z)\n",
        "\n",
        "\n",
        "\n",
        "\n",
        "class FrozenResNet18(nn.Module):\n",
        "    def __init__(self, weights=None):\n",
        "        super().__init__()\n",
        "        m = models.resnet18(weights=weights)\n",
        "        self.features = nn.Sequential(*list(m.children())[:-1])\n",
        "        for p in self.features.parameters():\n",
        "            p.requires_grad_(False)\n",
        "\n",
        "    def forward(self, x: torch.Tensor) -> torch.Tensor:\n",
        "        z = self.features(x)\n",
        "        return torch.flatten(z, 1)\n"
      ]
    },
    {
      "cell_type": "code",
      "execution_count": 9,
      "metadata": {
        "id": "5ikEW867WPmX"
      },
      "outputs": [],
      "source": [
        "def tune_hidden_to_param_target(build_fn, d_in, num_classes, target_params, h0=512):\n",
        "\n",
        "    best_h, best_diff = h0, float(\"inf\")\n",
        "    h = h0\n",
        "    for step in [256, 128, 64, 32, 16, 8, 4, 2, 1]:\n",
        "        improved = True\n",
        "        while improved:\n",
        "            improved = False\n",
        "            for delta in (-step, step):\n",
        "                h_try = max(4, h + delta)\n",
        "                m = build_fn(h_try)\n",
        "                p = count_params(m)\n",
        "                diff = abs(p - target_params)\n",
        "                if diff < best_diff:\n",
        "                    best_h, best_diff, h = h_try, diff, h_try\n",
        "                    improved = True\n",
        "    return best_h\n"
      ]
    },
    {
      "cell_type": "code",
      "execution_count": 10,
      "metadata": {
        "id": "pKJunh4EmiNd"
      },
      "outputs": [],
      "source": [
        "IMAGENET_MEAN = [0.485, 0.456, 0.406]\n",
        "IMAGENET_STD = [0.229, 0.224, 0.225]\n",
        "\n",
        "\n",
        "def build_transforms(dataset: str, train: bool) -> transforms.Compose:\n",
        "    if dataset == \"cifar10\":\n",
        "        if train:\n",
        "            return transforms.Compose(\n",
        "                [\n",
        "                    transforms.RandomResizedCrop(224, scale=(0.6, 1.0)),\n",
        "                    transforms.RandomHorizontalFlip(),\n",
        "                    transforms.ToTensor(),\n",
        "                    transforms.Normalize(mean=IMAGENET_MEAN, std=IMAGENET_STD),\n",
        "                ]\n",
        "            )\n",
        "        else:\n",
        "            return transforms.Compose(\n",
        "                [\n",
        "                    transforms.Resize(256),\n",
        "                    transforms.CenterCrop(224),\n",
        "                    transforms.ToTensor(),\n",
        "                    transforms.Normalize(mean=IMAGENET_MEAN, std=IMAGENET_STD),\n",
        "                ]\n",
        "            )\n",
        "    elif dataset == \"mnist\":\n",
        "        if train:\n",
        "            return transforms.Compose(\n",
        "                [\n",
        "                    transforms.Resize(224),\n",
        "                    transforms.RandomAffine(\n",
        "                        degrees=10, translate=(0.05, 0.05), scale=(0.9, 1.1)\n",
        "                    ),\n",
        "                    transforms.ToTensor(),\n",
        "                    transforms.Lambda(lambda x: x.repeat(3, 1, 1)),  # 1->3 channels\n",
        "                    transforms.Normalize(mean=IMAGENET_MEAN, std=IMAGENET_STD),\n",
        "                ]\n",
        "            )\n",
        "        else:\n",
        "            return transforms.Compose(\n",
        "                [\n",
        "                    transforms.Resize(224),\n",
        "                    transforms.ToTensor(),\n",
        "                    transforms.Lambda(lambda x: x.repeat(3, 1, 1)),\n",
        "                    transforms.Normalize(mean=IMAGENET_MEAN, std=IMAGENET_STD),\n",
        "                ]\n",
        "            )\n",
        "    else:\n",
        "        raise ValueError(\"Unknown dataset\")\n",
        "\n",
        "\n",
        "def load_dataset(dataset: str, data_dir: str):\n",
        "    if dataset == \"cifar10\":\n",
        "        train_ds = datasets.CIFAR10(\n",
        "            root=data_dir, train=True, download=True, transform=None\n",
        "        )\n",
        "        test_ds = datasets.CIFAR10(\n",
        "            root=data_dir, train=False, download=True, transform=None\n",
        "        )\n",
        "        num_classes = 10\n",
        "    elif dataset == \"mnist\":\n",
        "        train_ds = datasets.MNIST(\n",
        "            root=data_dir, train=True, download=True, transform=None\n",
        "        )\n",
        "        test_ds = datasets.MNIST(\n",
        "            root=data_dir, train=False, download=True, transform=None\n",
        "        )\n",
        "        num_classes = 10\n",
        "    else:\n",
        "        raise ValueError(\"Unknown dataset\")\n",
        "    return train_ds, test_ds, num_classes\n",
        "\n",
        "\n",
        "def stratified_fraction_indices(\n",
        "    targets: List[int], fraction: float, num_classes: int, seed: int\n",
        ") -> List[int]:\n",
        "    rng = np.random.RandomState(seed)\n",
        "    targets = np.array(targets)\n",
        "    idxs = []\n",
        "    for c in range(num_classes):\n",
        "        class_idx = np.where(targets == c)[0]\n",
        "        rng.shuffle(class_idx)\n",
        "        k = max(1, int(math.floor(len(class_idx) * fraction)))\n",
        "        idxs.extend(class_idx[:k].tolist())\n",
        "    rng.shuffle(idxs)\n",
        "    return idxs\n",
        "\n",
        "\n",
        "def make_loaders(\n",
        "    dataset: str,\n",
        "    data_dir: str,\n",
        "    label_fraction: float,\n",
        "    seed: int,\n",
        "    batch_size: int,\n",
        "    num_workers: int = 4,\n",
        "):\n",
        "    train_raw, test_raw, num_classes = load_dataset(dataset, data_dir)\n",
        "    tr_tf = build_transforms(dataset, train=True)\n",
        "    te_tf = build_transforms(dataset, train=False)\n",
        "\n",
        "    targets = (\n",
        "        train_raw.targets if hasattr(train_raw, \"targets\") else train_raw.train_labels\n",
        "    )\n",
        "    sub_idx = stratified_fraction_indices(targets, label_fraction, num_classes, seed)\n",
        "    train_sub = Subset(WrappedDataset(train_raw, tr_tf), sub_idx)\n",
        "\n",
        "    val_size = max(1, int(0.1 * len(train_sub)))\n",
        "    train_size = len(train_sub) - val_size\n",
        "    train_ds, val_ds = random_split(\n",
        "        train_sub, [train_size, val_size], generator=torch.Generator().manual_seed(seed)\n",
        "    )\n",
        "\n",
        "    test_ds = WrappedDataset(test_raw, te_tf)\n",
        "\n",
        "    train_loader = DataLoader(\n",
        "        train_ds, batch_size=batch_size, shuffle=True, num_workers=2, pin_memory=True\n",
        "    )\n",
        "    val_loader = DataLoader(\n",
        "        val_ds, batch_size=batch_size, shuffle=False, num_workers=2, pin_memory=True\n",
        "    )\n",
        "    test_loader = DataLoader(\n",
        "        test_ds, batch_size=batch_size, shuffle=False, num_workers=2, pin_memory=True\n",
        "    )\n",
        "    return train_loader, val_loader, test_loader, num_classes\n"
      ]
    },
    {
      "cell_type": "code",
      "execution_count": 11,
      "metadata": {
        "id": "VtS-OcgBxJ3h"
      },
      "outputs": [],
      "source": [
        "@torch.no_grad()\n",
        "def estimate_feature_stats(backbone, loader, device, max_batches=32):\n",
        "    m1, m2, n = 0.0, 0.0, 0\n",
        "    for b, (x, _) in enumerate(loader):\n",
        "        if b >= max_batches:\n",
        "            break\n",
        "        x = x.to(device)\n",
        "        z = forward_features(backbone, x)\n",
        "        m1 += z.sum(0)\n",
        "        m2 += (z**2).sum(0)\n",
        "        n += z.size(0)\n",
        "    mu = m1 / n\n",
        "    var = (m2 / n) - mu**2\n",
        "    std = torch.sqrt(var.clamp_min(1e-6))\n",
        "    return mu, std"
      ]
    },
    {
      "cell_type": "code",
      "execution_count": 12,
      "metadata": {
        "id": "cvjGifoX2_B-"
      },
      "outputs": [],
      "source": [
        "def precompute_and_save_features(backbone, loader, device, save_path):\n",
        "    \"\"\"Extracts features and labels from a data loader and saves them to a file.\"\"\"\n",
        "    if os.path.exists(save_path):\n",
        "        print(f\"Features found at {save_path}, loading them.\")\n",
        "        return\n",
        "\n",
        "    print(f\"No pre-computed features found. Creating them at {save_path}...\")\n",
        "    backbone.eval()\n",
        "    all_features = []\n",
        "    all_labels = []\n",
        "\n",
        "    with torch.no_grad():\n",
        "        for x, y in loader:\n",
        "            x = x.to(device)\n",
        "            features = backbone(x)\n",
        "            all_features.append(torch.flatten(features, 1).cpu())\n",
        "            all_labels.append(y.cpu())\n",
        "\n",
        "    all_features = torch.cat(all_features, dim=0)\n",
        "    all_labels = torch.cat(all_labels, dim=0)\n",
        "\n",
        "    os.makedirs(os.path.dirname(save_path), exist_ok=True)\n",
        "    torch.save({\"features\": all_features, \"labels\": all_labels}, save_path)\n",
        "    print(f\"Saved pre-computed features to {save_path}\")"
      ]
    },
    {
      "cell_type": "code",
      "execution_count": 22,
      "metadata": {
        "id": "cxKhD9fFmiNe"
      },
      "outputs": [],
      "source": [
        "@dataclass\n",
        "class TrainConfig:\n",
        "    dataset: str\n",
        "    data_dir: str\n",
        "    label_fraction: float\n",
        "    seed: int\n",
        "    device: str\n",
        "    epochs: int\n",
        "    patience: int\n",
        "    batch_size: int\n",
        "    lr: float\n",
        "    weight_decay: float\n",
        "    smoothing: float\n",
        "    mlp_hidden: int\n",
        "    kan_hidden: int\n",
        "\n",
        "    kan_K: int\n",
        "    match_params: bool\n",
        "    results_dir: str\n",
        "    tag: str\n",
        "\n",
        "\n",
        "def build_backbone(device: str):\n",
        "    try:\n",
        "        weights = models.ResNet18_Weights.IMAGENET1K_V1\n",
        "    except Exception:\n",
        "        weights = None\n",
        "    backbone = FrozenResNet18(weights=weights).to(device)\n",
        "    backbone.eval()\n",
        "    return backbone\n",
        "\n",
        "\n",
        "def forward_features(backbone: nn.Module, x: torch.Tensor) -> torch.Tensor:\n",
        "    with torch.no_grad():\n",
        "        return backbone(x)\n",
        "\n",
        "\n",
        "\n",
        "\n",
        "\n",
        "\n",
        "\n",
        "\n",
        "\n",
        "def train_head(\n",
        "    cfg: TrainConfig,\n",
        "    model_head: nn.Module,\n",
        "    loaders,\n",
        "    label_smoothing: float,\n",
        "    mu: torch.Tensor = None,\n",
        "    std: torch.Tensor = None,\n",
        "    feature_dropout_p: float = 0.0,\n",
        ") -> Tuple[Dict[str, float], torch.Tensor, torch.Tensor, torch.Tensor, torch.Tensor]:\n",
        "    \"\"\"\n",
        "    Train a classification head with early stopping and AMP.\n",
        "\n",
        "    Returns\n",
        "    -------\n",
        "    results : dict\n",
        "        Final metrics (acc, nll, brier, ece, etc.)\n",
        "    logits_val, y_val : torch.Tensor\n",
        "        Validation logits and labels (best model, CPU)\n",
        "    logits_test, y_test : torch.Tensor\n",
        "        Test logits and labels (best model, CPU)\n",
        "    \"\"\"\n",
        "    global _cancelled\n",
        "\n",
        "    train_loader, val_loader, test_loader, num_classes = loaders\n",
        "    device = torch.device(cfg.device)\n",
        "\n",
        "    eps = 1e-6\n",
        "    criterion = LabelSmoothingCE(smoothing=label_smoothing).to(device)\n",
        "    opt = torch.optim.AdamW(\n",
        "        model_head.parameters(), lr=cfg.lr, weight_decay=cfg.weight_decay\n",
        "    )\n",
        "    scheduler = CosineAnnealingLR(opt, T_max=cfg.epochs, eta_min=1e-6)\n",
        "\n",
        "    best_val_loss = float(\"inf\")\n",
        "    best_state = None\n",
        "    best_epoch = -1\n",
        "    no_improve = 0\n",
        "    device_str = str(device)\n",
        "    scaler = GradScaler(device_str, enabled=(device_str == \"cuda\"))\n",
        "\n",
        "    # ------------------------------------------------------------------\n",
        "    # Training loop\n",
        "    # ------------------------------------------------------------------\n",
        "    for epoch in range(cfg.epochs):\n",
        "        if _cancelled:\n",
        "            print(\"Cancelled by user.\")\n",
        "            break\n",
        "\n",
        "        # ---------------- Train one epoch ----------------\n",
        "        model_head.train()\n",
        "        for z, y in train_loader:\n",
        "            z, y = z.to(device, non_blocking=True), y.to(device, non_blocking=True)\n",
        "\n",
        "            # Optional feature dropout\n",
        "            if feature_dropout_p > 0.0:\n",
        "                z = F.dropout(z, p=feature_dropout_p, training=True)\n",
        "\n",
        "            # Normalise\n",
        "            z_norm = (z - mu.to(device)) / (std.to(device) + eps)\n",
        "\n",
        "            with autocast(device_str, enabled=(device_str == \"cuda\")):\n",
        "              logits = model_head(z_norm)\n",
        "              loss = criterion(logits, y)\n",
        "\n",
        "            opt.zero_grad(set_to_none=True)\n",
        "            scaler.scale(loss).backward()\n",
        "            scaler.step(opt)\n",
        "            scaler.update()\n",
        "\n",
        "        scheduler.step()  # <-- once per epoch\n",
        "\n",
        "        # ---------------- Validation ----------------\n",
        "        model_head.eval()\n",
        "        total_val_loss, n_val = 0.0, 0\n",
        "        with torch.no_grad():\n",
        "            for z, y in val_loader:\n",
        "                z, y = z.to(device, non_blocking=True), y.to(device, non_blocking=True)\n",
        "                z_norm = (z - mu.to(device)) / (std.to(device) + eps)\n",
        "\n",
        "                with autocast(device_type=str(device), enabled=(str(device) == \"cuda\")):\n",
        "                    logits = model_head(z_norm)\n",
        "                    total_val_loss += F.cross_entropy(logits, y, reduction=\"sum\").item()\n",
        "                n_val += y.size(0)\n",
        "\n",
        "        current_val_loss = total_val_loss / n_val\n",
        "        print(f\"Epoch {epoch+1:03d}/{cfg.epochs}: val_loss={current_val_loss:.4f}\")\n",
        "\n",
        "        # ---------------- Early stopping ----------------\n",
        "        if current_val_loss < best_val_loss - 1e-5:\n",
        "            best_val_loss = current_val_loss\n",
        "            best_state = {k: v.detach().cpu() for k, v in model_head.state_dict().items()}\n",
        "            best_epoch = epoch + 1\n",
        "            no_improve = 0\n",
        "        else:\n",
        "            no_improve += 1\n",
        "            if no_improve >= cfg.patience:\n",
        "                print(f\"Early stopping at epoch {epoch+1}. Best epoch = {best_epoch}.\")\n",
        "                break\n",
        "\n",
        "    # ---------------- Load best model ----------------\n",
        "    if best_state is not None:\n",
        "        model_head.load_state_dict(best_state)\n",
        "    else:\n",
        "        # Never improved – keep last weights\n",
        "        pass\n",
        "\n",
        "    # ---------------- Final evaluation ----------------\n",
        "    model_head.eval()\n",
        "    with torch.no_grad():\n",
        "        # Validation set\n",
        "        logits_val, y_val = [], []\n",
        "        for z, y in val_loader:\n",
        "            z, y = z.to(device, non_blocking=True), y.to(device, non_blocking=True)\n",
        "            z_norm = (z - mu.to(device)) / (std.to(device) + eps)\n",
        "            with autocast(device_type=str(device), enabled=(str(device) == \"cuda\")):\n",
        "                logits_val.append(model_head(z_norm))\n",
        "            y_val.append(y)\n",
        "        logits_val = torch.cat(logits_val).cpu()\n",
        "        y_val = torch.cat(y_val).cpu()\n",
        "\n",
        "        # Test set\n",
        "        logits_test, y_test = [], []\n",
        "        for z, y in test_loader:\n",
        "            z, y = z.to(device, non_blocking=True), y.to(device, non_blocking=True)\n",
        "            z_norm = (z - mu.to(device)) / (std.to(device) + eps)\n",
        "            with autocast(device_type=str(device), enabled=(str(device) == \"cuda\")):\n",
        "                logits_test.append(model_head(z_norm))\n",
        "            y_test.append(y)\n",
        "        logits_test = torch.cat(logits_test).cpu()\n",
        "        y_test = torch.cat(y_test).cpu()\n",
        "\n",
        "    # ---------------- Metrics ----------------\n",
        "    acc = accuracy_top1(logits_test, y_test)\n",
        "    nll = nll_criterion(logits_test, y_test).item()\n",
        "    brier = brier_score(logits_test, y_test)\n",
        "    ece = ece_score(logits_test, y_test)\n",
        "\n",
        "    results = {\n",
        "        \"acc\": acc,\n",
        "        \"nll_uncalibrated\": nll,\n",
        "        \"brier_uncalibrated\": brier,\n",
        "        \"ece_uncalibrated\": ece,\n",
        "        \"params\": count_params(model_head),\n",
        "        \"epoch_best\": best_epoch,\n",
        "    }\n",
        "\n",
        "    return results, logits_val, y_val, logits_test, y_test"
      ]
    },
    {
      "cell_type": "code",
      "execution_count": 14,
      "metadata": {
        "id": "RH_Pfts4B02P"
      },
      "outputs": [],
      "source": [
        "@torch.no_grad()\n",
        "def predict_logits(\n",
        "    backbone, head, loader, device, mu, std, eps: float = 1e-6\n",
        "):  # Added mu, std as required arguments\n",
        "    head.eval()\n",
        "    all_logits, all_y = [], []\n",
        "    mu, std = mu.to(device), std.to(device)  # Move mu and std to device\n",
        "\n",
        "    for x, y in loader:\n",
        "        x = x.to(device, non_blocking=True)\n",
        "        z = forward_features(backbone, x)\n",
        "        z = (z - mu) / (std + eps)  # Normalization using provided mu and std\n",
        "        all_logits.append(head(z).cpu())\n",
        "        all_y.append(y.cpu())\n",
        "    return torch.cat(all_logits, 0), torch.cat(all_y, 0)\n"
      ]
    },
    {
      "cell_type": "code",
      "execution_count": 23,
      "metadata": {
        "id": "QcqbbiMhB0oY"
      },
      "outputs": [],
      "source": [
        "def run_experiment(\n",
        "    dataset: str = \"cifar10\",\n",
        "    label_fraction: float = 0.02,\n",
        "    modes=(\"mlp\", \"pykan\", \"fastkan\"),\n",
        "    seeds=(42,),\n",
        "    device: str = \"cuda\" if torch.cuda.is_available() else \"cpu\",\n",
        "    epochs: int = 100,\n",
        "    patience: int = 20,\n",
        "    batch_size: int = 128,\n",
        "    lr: float = 3e-3,\n",
        "    weight_decay: float = 1e-4,\n",
        "    smoothing: float = 0.1,\n",
        "    mlp_hidden: int = 512,\n",
        "    kan_hidden: int = 512,\n",
        "    pykan_grid: int = 5,\n",
        "    pykan_k: int = 3,\n",
        "    fastkan_grids: int = 8,\n",
        "    match_params: bool = True,\n",
        "    ece_bins: int = 15,\n",
        "):\n",
        "    all_results = []\n",
        "    all_logits_targets = {}\n",
        "    device = torch.device(device)\n",
        "\n",
        "    # Absolute path for cached features\n",
        "    feature_root = Path(\"/content\") / \"data\" / \"features\" / dataset\n",
        "    feature_root.mkdir(parents=True, exist_ok=True)\n",
        "    train_feat_path = feature_root / \"train_features.pt\"\n",
        "    test_feat_path  = feature_root / \"test_features.pt\"\n",
        "\n",
        "    # Candidate grids for parameter matching\n",
        "    pykan_grid_candidates   = [3, 5, 8, 12]\n",
        "    fastkan_grids_candidates = [3, 5, 8, 12, 16]\n",
        "\n",
        "    for seed in seeds:\n",
        "        if _cancelled:\n",
        "            break\n",
        "        set_seed(seed)\n",
        "        print(f\"\\n=====  SEED {seed}  =====\")\n",
        "\n",
        "        # --------------------------------------------------------------\n",
        "        # 1.  Pre-compute features once\n",
        "        # --------------------------------------------------------------\n",
        "        if not (train_feat_path.exists() and test_feat_path.exists()):\n",
        "            backbone = build_backbone(device)\n",
        "            train_raw_full, test_raw, num_classes = load_dataset(dataset, \"./data\")\n",
        "            eval_tf = build_transforms(dataset, train=False)\n",
        "\n",
        "            tmp_tr = DataLoader(WrappedDataset(train_raw_full, eval_tf),\n",
        "                                batch_size=batch_size*2, shuffle=False,\n",
        "                                num_workers=2, pin_memory=True)\n",
        "            tmp_te = DataLoader(WrappedDataset(test_raw,  eval_tf),\n",
        "                                batch_size=batch_size*2, shuffle=False,\n",
        "                                num_workers=2, pin_memory=True)\n",
        "\n",
        "            precompute_and_save_features(backbone, tmp_tr, device, str(train_feat_path))\n",
        "            precompute_and_save_features(backbone, tmp_te, device, str(test_feat_path))\n",
        "            del backbone, tmp_tr, tmp_te\n",
        "            if str(device) == \"cuda\":\n",
        "                torch.cuda.empty_cache()\n",
        "\n",
        "        # --------------------------------------------------------------\n",
        "        # 2.  Build datasets\n",
        "        # --------------------------------------------------------------\n",
        "        train_data = torch.load(train_feat_path)\n",
        "        test_data  = torch.load(test_feat_path)\n",
        "\n",
        "        full_feat = train_data[\"features\"]\n",
        "        full_lbls = train_data[\"labels\"]\n",
        "        test_feat = test_data[\"features\"]\n",
        "        test_lbls = test_data[\"labels\"]\n",
        "        num_classes = int(full_lbls.max().item()) + 1\n",
        "\n",
        "        # Subset by label fraction\n",
        "        sub_idx = stratified_fraction_indices(full_lbls, label_fraction,\n",
        "                                              num_classes, seed)\n",
        "        sub_feat = full_feat[sub_idx]\n",
        "        sub_lbls = full_lbls[sub_idx]\n",
        "\n",
        "        # Train / val split\n",
        "        val_size = max(1, int(0.1 * len(sub_idx)))\n",
        "        train_size = len(sub_idx) - val_size\n",
        "        train_ds, val_ds = random_split(\n",
        "            TensorDataset(sub_feat, sub_lbls),\n",
        "            [train_size, val_size],\n",
        "            generator=torch.Generator().manual_seed(seed)\n",
        "        )\n",
        "\n",
        "        # Data loaders\n",
        "        train_loader = DataLoader(train_ds, batch_size=batch_size, shuffle=True,\n",
        "                                  num_workers=2, pin_memory=True)\n",
        "        val_loader   = DataLoader(val_ds,   batch_size=batch_size*2, shuffle=False,\n",
        "                                  num_workers=2, pin_memory=True)\n",
        "        test_loader  = DataLoader(TensorDataset(test_feat, test_lbls),\n",
        "                                  batch_size=batch_size*2, shuffle=False,\n",
        "                                  num_workers=2, pin_memory=True)\n",
        "\n",
        "        # Normalisation stats over *full* training subset\n",
        "        combined_idx = np.array(train_ds.indices)\n",
        "        mu = sub_feat[combined_idx].mean(0)\n",
        "        std = sub_feat[combined_idx].std(0)\n",
        "\n",
        "        # --------------------------------------------------------------\n",
        "        # 3.  Parameter-matching\n",
        "        # --------------------------------------------------------------\n",
        "        target_params = count_params(MLPHead(sub_feat.size(1), mlp_hidden, num_classes))\n",
        "        h_py, chosen_py_grid = kan_hidden, pykan_grid\n",
        "        h_fk, chosen_fk_grid = kan_hidden, fastkan_grids\n",
        "\n",
        "        if match_params:\n",
        "            # PyKAN\n",
        "            best_py_combo, best_py_diff = None, float(\"inf\")\n",
        "            for g in pykan_grid_candidates:\n",
        "                def build(h): return PyKANHead(sub_feat.size(1), h, num_classes,\n",
        "                                               grid=g, k=pykan_k)\n",
        "                h_try = tune_hidden_to_param_target(build, sub_feat.size(1),\n",
        "                                                    num_classes, target_params,\n",
        "                                                    h0=mlp_hidden)\n",
        "                diff = abs(count_params(build(h_try)) - target_params)\n",
        "                if diff < best_py_diff:\n",
        "                    best_py_diff = diff\n",
        "                    best_py_combo = (h_try, g)\n",
        "            h_py, chosen_py_grid = best_py_combo\n",
        "            print(f\"[Param-match] PyKAN  hidden={h_py}  grid={chosen_py_grid}\")\n",
        "\n",
        "            # FastKAN\n",
        "            best_fk_combo, best_fk_diff = None, float(\"inf\")\n",
        "            for g in fastkan_grids_candidates:\n",
        "                def build(h): return FastKANHead(sub_feat.size(1), h, num_classes,\n",
        "                                                 num_grids=g)\n",
        "                h_try = tune_hidden_to_param_target(build, sub_feat.size(1),\n",
        "                                                    num_classes, target_params,\n",
        "                                                    h0=mlp_hidden)\n",
        "                diff = abs(count_params(build(h_try)) - target_params)\n",
        "                if diff < best_fk_diff:\n",
        "                    best_fk_diff = diff\n",
        "                    best_fk_combo = (h_try, g)\n",
        "            h_fk, chosen_fk_grid = best_fk_combo\n",
        "            print(f\"[Param-match] FastKAN hidden={h_fk}  grids={chosen_fk_grid}\")\n",
        "\n",
        "        # --------------------------------------------------------------\n",
        "        # 4.  Train heads\n",
        "        # --------------------------------------------------------------\n",
        "        cfg_obj = TrainConfig(\n",
        "            dataset=dataset, data_dir=\"./data\", label_fraction=label_fraction,\n",
        "            seed=seed, device=str(device), epochs=epochs, patience=patience,\n",
        "            batch_size=batch_size, lr=lr, weight_decay=weight_decay,\n",
        "            smoothing=smoothing, mlp_hidden=mlp_hidden, kan_hidden=kan_hidden,\n",
        "            kan_K=pykan_k, match_params=match_params, results_dir=\"./results\", tag=\"\"\n",
        "        )\n",
        "\n",
        "        loaders = (train_loader, val_loader, test_loader, num_classes)\n",
        "\n",
        "        builders = {\n",
        "            \"mlp\":    lambda: MLPHead(sub_feat.size(1), mlp_hidden, num_classes),\n",
        "            \"pykan\":  lambda: PyKANHead(sub_feat.size(1), h_py, num_classes,\n",
        "                                        grid=chosen_py_grid, k=pykan_k),\n",
        "            \"fastkan\": lambda: FastKANHead(sub_feat.size(1), h_fk, num_classes,\n",
        "                                           num_grids=chosen_fk_grid),\n",
        "        }\n",
        "\n",
        "        for name, builder in builders.items():\n",
        "            if name not in modes:\n",
        "                continue\n",
        "            print(f\"\\n---- {name.upper()} head ----\")\n",
        "            head = builder().to(device)\n",
        "            if str(device) == \"cuda\":\n",
        "                head = torch.compile(head)\n",
        "\n",
        "            base_res, logits_val, y_val, logits_test, y_test = train_head(\n",
        "                cfg_obj, head, loaders, smoothing, mu=mu, std=std\n",
        "            )\n",
        "\n",
        "            # Temperature scaling\n",
        "            temp = find_optimal_temp(logits_val, y_val, cfg_obj.device)\n",
        "            scaled_logits = logits_test / temp\n",
        "\n",
        "            nll_cal = nll_criterion(scaled_logits, y_test).item()\n",
        "            bri_cal = brier_score(scaled_logits, y_test)\n",
        "            ece_cal = ece_score(scaled_logits, y_test, n_bins=ece_bins)\n",
        "\n",
        "            print(f\"ECE {base_res['ece_uncalibrated']:.4f} -> {ece_cal:.4f}\")\n",
        "\n",
        "            res = {\n",
        "                \"model\": name, \"seed\": seed, **base_res,\n",
        "                \"temperature\": temp,\n",
        "                \"nll_calibrated\": nll_cal,\n",
        "                \"brier_calibrated\": bri_cal,\n",
        "                \"ece_calibrated\": ece_cal,\n",
        "                \"grid\": chosen_py_grid if name == \"pykan\" else (\n",
        "                        chosen_fk_grid if name == \"fastkan\" else None),\n",
        "            }\n",
        "            all_results.append(res)\n",
        "\n",
        "            all_logits_targets[f\"{name}_seed_{seed}\"] = (logits_test, y_test)\n",
        "            all_logits_targets[f\"{name}_cal_seed_{seed}\"] = (scaled_logits, y_test)\n",
        "\n",
        "    # --------------------------------------------------------------\n",
        "    # 5.  Result table\n",
        "    # --------------------------------------------------------------\n",
        "    df = pd.DataFrame(all_results)\n",
        "    col_order = [\n",
        "        \"model\", \"seed\", \"params\", \"acc\", \"epoch_best\", \"temperature\", \"grid\",\n",
        "        \"nll_uncalibrated\", \"nll_calibrated\",\n",
        "        \"brier_uncalibrated\", \"brier_calibrated\",\n",
        "        \"ece_uncalibrated\", \"ece_calibrated\",\n",
        "    ]\n",
        "    df = df.reindex(columns=col_order)\n",
        "\n",
        "    return df, all_logits_targets"
      ]
    },
    {
      "cell_type": "code",
      "execution_count": 16,
      "metadata": {
        "id": "gha7pjG5ByNa"
      },
      "outputs": [],
      "source": [
        "def plot_reliability_diagrams(logits_dict, n_bins=15, title=\"Reliability Diagram\"):\n",
        "    plt.figure(figsize=(5, 5))\n",
        "    xs = np.linspace(0, 1, 101)\n",
        "    plt.plot(xs, xs, linestyle=\"--\", label=\"perfect\")\n",
        "    for name, (logits, y) in logits_dict.items():\n",
        "        bc, ba = reliability_curve(logits, y, n_bins=n_bins)\n",
        "        plt.plot(bc, ba, marker=\"o\", label=name)\n",
        "    plt.xlabel(\"Confidence\")\n",
        "    plt.ylabel(\"Accuracy\")\n",
        "    plt.title(title)\n",
        "    plt.legend()\n",
        "    plt.grid(True, linestyle=\"--\", alpha=0.3)\n",
        "    plt.tight_layout()\n",
        "    plt.show()\n"
      ]
    },
    {
      "cell_type": "code",
      "execution_count": 17,
      "metadata": {
        "id": "2mEz2honmiNg"
      },
      "outputs": [],
      "source": [
        "def plot_reliability_diagrams(logits_dict, n_bins=15, title=\"Reliability Diagram\"):\n",
        "    plt.figure(figsize=(5,5))\n",
        "    xs = np.linspace(0,1,101)\n",
        "    plt.plot(xs, xs, linestyle=\"--\", label=\"perfect\")\n",
        "    for name, (logits, y) in logits_dict.items():\n",
        "        bc, ba =  reliability_curve(logits, y, n_bins=n_bins)\n",
        "        plt.plot(bc, ba, marker=\"o\", label=name)\n",
        "    plt.xlabel(\"Confidence\")\n",
        "    plt.ylabel(\"Accuracy\")\n",
        "    plt.title(title)\n",
        "    plt.legend()\n",
        "    plt.grid(True, linestyle=\"--\", alpha=0.3)\n",
        "    plt.tight_layout()\n",
        "    plt.show()"
      ]
    },
    {
      "cell_type": "code",
      "execution_count": 18,
      "metadata": {
        "id": "YNvD6wPfmiNg"
      },
      "outputs": [],
      "source": [
        "def plot_metric_summary(df, metrics=(\"acc\", \"ece\"), *, combine=True, show=False):\n",
        "    \"\"\"\n",
        "    Compute mean/std per model and plot bars with error bars.\n",
        "    Returns a Figure (or dict of Figures when combine=False).\n",
        "    \"\"\"\n",
        "    grouped = df.groupby(\"model\")[list(metrics)].agg([\"mean\", \"std\"])\n",
        "    nseeds = int(df[\"seed\"].nunique()) if \"seed\" in df.columns else None\n",
        "\n",
        "    if combine:\n",
        "        n = len(metrics)\n",
        "        fig, axes = plt.subplots(1, n, figsize=(5 * n, 3), squeeze=False)\n",
        "        axes = axes[0]\n",
        "        for ax, m in zip(axes, metrics):\n",
        "            means = grouped[(m, \"mean\")].astype(float)\n",
        "            stds = grouped[(m, \"std\")].astype(float).fillna(0.0)\n",
        "            ax.bar(means.index.astype(str), means.values, yerr=stds.values, capsize=5)\n",
        "            title = (\n",
        "                f\"{m.upper()} (avg over {nseeds} seed{'s' if nseeds!=1 else ''})\"\n",
        "                if nseeds\n",
        "                else m.upper()\n",
        "            )\n",
        "            ax.set_title(title)\n",
        "            ax.set_ylabel(m)\n",
        "            ax.grid(axis=\"y\", ls=\"--\", alpha=0.3)\n",
        "            ax.set_axisbelow(True)\n",
        "        fig.tight_layout()\n",
        "        if show:\n",
        "            from IPython.display import display as _display\n",
        "\n",
        "            _display(fig)\n",
        "        return fig\n",
        "    else:\n",
        "        figs = {}\n",
        "        for m in metrics:\n",
        "            fig, ax = plt.subplots(figsize=(5, 3))\n",
        "            means = grouped[(m, \"mean\")].astype(float)\n",
        "            stds = grouped[(m, \"std\")].astype(float).fillna(0.0)\n",
        "            ax.bar(means.index.astype(str), means.values, yerr=stds.values, capsize=5)\n",
        "            title = (\n",
        "                f\"{m.upper()} (avg over {nseeds} seed{'s' if nseeds!=1 else ''})\"\n",
        "                if nseeds\n",
        "                else m.upper()\n",
        "            )\n",
        "            ax.set_title(title)\n",
        "            ax.set_ylabel(m)\n",
        "            ax.grid(axis=\"y\", ls=\"--\", alpha=0.3)\n",
        "            ax.set_axisbelow(True)\n",
        "            fig.tight_layout()\n",
        "            if show:\n",
        "                _display(fig)\n",
        "            figs[m] = fig\n",
        "        return figs"
      ]
    },
    {
      "cell_type": "code",
      "execution_count": 19,
      "metadata": {
        "id": "ZUODvY-JmiNg"
      },
      "outputs": [],
      "source": [
        "@torch.no_grad()\n",
        "def reliability_curve(logits, targets, n_bins=15):\n",
        "    probs = torch.softmax(logits, dim=1)\n",
        "    conf, preds = probs.max(dim=1)\n",
        "    correct = preds.eq(targets).float()\n",
        "    conf_s, idx = torch.sort(conf)\n",
        "    corr_s = correct[idx]\n",
        "    N = len(conf_s)\n",
        "    edges = torch.linspace(0, N, steps=n_bins + 1, device=conf.device).round().long()\n",
        "    xs, ys = [], []\n",
        "    for i in range(n_bins):\n",
        "        lo, hi = edges[i].item(), edges[i + 1].item()\n",
        "        if hi <= lo:\n",
        "            continue\n",
        "        xs.append(conf_s[lo:hi].mean().item())\n",
        "        ys.append(corr_s[lo:hi].mean().item())\n",
        "    return xs, ys"
      ]
    },
    {
      "cell_type": "code",
      "execution_count": 20,
      "metadata": {
        "id": "qXzgbSo83bGW"
      },
      "outputs": [],
      "source": [
        "def plot_reliability(logits_dict, n_bins=15, title=\"Reliability\", *, show=False):\n",
        "    \"\"\"\n",
        "    Draw reliability curves for each model and return the Figure.\n",
        "    Assumes reliability_curve(logits, y, n_bins) -> (bin_conf, bin_acc).\n",
        "    \"\"\"\n",
        "    xs = np.linspace(0, 1, 101)\n",
        "    fig, ax = plt.subplots(figsize=(5, 5))\n",
        "    ax.plot(xs, xs, \"--\", label=\"perfect\")\n",
        "    for name, (logits, y) in logits_dict.items():\n",
        "        bx, by = reliability_curve(logits, y, n_bins)\n",
        "        ax.plot(bx, by, marker=\"o\", label=name)\n",
        "    ax.set_xlabel(\"Confidence\")\n",
        "    ax.set_ylabel(\"Accuracy\")\n",
        "    ax.set_title(title)\n",
        "    ax.legend()\n",
        "    ax.grid(True, ls=\"--\", alpha=0.3)\n",
        "    ax.set_axisbelow(True)\n",
        "    fig.tight_layout()\n",
        "    if show:\n",
        "        _display(fig)\n",
        "    return fig\n"
      ]
    },
    {
      "cell_type": "code",
      "execution_count": 21,
      "metadata": {
        "colab": {
          "base_uri": "https://localhost:8080/",
          "height": 1000,
          "referenced_widgets": [
            "86ef691550df4f80a35910ab656c42fe",
            "cc76f1d1e35641bbaf949ea326a5759c",
            "c6ca48e3729845d7aed62ffa7bb56d80",
            "f2f09d8f5c5a4be3bbcf76842105f1f2",
            "03ffafc3cc1b455883e27a14cf16d727",
            "3d268536b14942018aab0e6d1244f42b",
            "3de58509899f4e07b015a2fd53b87ebe",
            "3cb416e4d6ed4c1badf6ecd567083ffe",
            "54cecadd55584dd9bae1a636707a8358",
            "efb68442f1434b0f8dbe991200ad110c",
            "2ffd72b0c23148f6ad3602a002b6de93",
            "5e4f6e378f344f7cbb427a551d0b4fc5",
            "bcb6d6e9a4144ff499a6f703583ee88f",
            "abe724ccacf64456ad7c4384a250a6e5",
            "2a86119f06de4f8eb4e5ee2614abd0bb",
            "8aa71d497ae34835a2280966a9b7c66d",
            "6a92d6f99f9042c99ec7235d1ac55b02",
            "70c67f0bce0d46f7b9d91abefa23e495",
            "adbbd51a294446cb852239f054020ceb",
            "4a2dee57bc504e48b233213007c6e30d",
            "2f8cdee8e00448d4be967422f47df1d9",
            "38d094aa71294356ae445fa399c20e5b",
            "64fc5b6b13dc47cea4a29d473d86b47a",
            "9a9113b4e6bc48329a6a29333beb776a",
            "7458e3019d9346eb8c43cb4270920cc0",
            "3c642a08f56e443fbb0e4fae93ea9ee4",
            "70bd86aaf0be4f18ab9516e225079e94",
            "311e6c947e2f450e9519cf90b2763dcf",
            "a2adba0677214420a181d8cb5c39d0b3",
            "dc9cce39f8354d61a11a84e509c10b92",
            "21e413c62cbb4d1085584c71740c59f6",
            "1f918d66e5804d53aa3453acd45ddac5",
            "1de2af3d4e884a5e8eef04908b32114a",
            "e7e491e09c324ca6becadf56c99882e6",
            "07d8781dca0644dd94a29a7983bd99ff",
            "b2fdc191e9b648d893f8790ce0f246ba",
            "c6591e6da6af46a6aa390c704d6ab0f7",
            "81656c00bf18496b9023d88a1df28170",
            "51c53951bdbf45bab9ddb0ee6b4d23ec",
            "e6cfdf7d48a54aa7860bcd73dc84aaed",
            "64c7ce3ccf1441a7b1969aed4fc71363",
            "20ef2c99a00542f886908461f46c36cb",
            "6d6a854e7cc34daab67bb54c67519d8b",
            "9d9bb89b66b9451592909e1203cdf6a4",
            "835cfd5546e24a95a63aae7316ac44bb",
            "735458cb5f95449b8239fe018195f6b4",
            "a15d27b80acd491f9b1fdcebfe19d15c",
            "7d7ce1975ed843cfaeb0992d9f48c6c0",
            "b4c143d87481470f9c9cb787249de337",
            "9c3f7b36ed8c48a1b8a9969fd927fefd",
            "974757e831224c13b4e06325d4c57561",
            "5d7e985503cc4313bed892fbad71f489",
            "2de9680ffd754f83b7614e27fc5b020a",
            "ec882de91bf64f9b9fdcd36a232a7c50",
            "35fa0656d6ea4158b4132960f559c7bd",
            "2d6bac89c30b4b438821f15054975d5c",
            "914a6a268d8b4e3f81d554f9b9ec81cf",
            "6fed0611fb9d41c7be38d5721cb7c35c",
            "47bb64b829164435995492f49a2d60bf"
          ]
        },
        "id": "mPicXZAVmiNh",
        "outputId": "ed9da210-dc2a-440e-ef0c-22e0f7322237"
      },
      "outputs": [
        {
          "name": "stdout",
          "output_type": "stream",
          "text": [
            "Mounted at /content/drive\n"
          ]
        },
        {
          "data": {
            "application/vnd.jupyter.widget-view+json": {
              "model_id": "86ef691550df4f80a35910ab656c42fe",
              "version_major": 2,
              "version_minor": 0
            },
            "text/plain": [
              "VBox(children=(HBox(children=(Dropdown(description='Dataset', options=('cifar10', 'mnist'), value='cifar10'), …"
            ]
          },
          "metadata": {},
          "output_type": "display_data"
        }
      ],
      "source": [
        "\n",
        "\n",
        "drive.mount('/content/drive')\n",
        "\n",
        "\n",
        "\n",
        "# ------------------------------------------------------------------\n",
        "#  Widget definitions (unchanged)\n",
        "# ------------------------------------------------------------------\n",
        "_label_opts = [(\"0.5%\", 0.005), (\"1%\", 0.01), (\"2%\", 0.02), (\"5%\", 0.05)]\n",
        "\n",
        "dataset_dd   = W.Dropdown(options=[\"cifar10\", \"mnist\"], value=\"cifar10\",\n",
        "                          description=\"Dataset\")\n",
        "labels_ms    = W.SelectMultiple(options=_label_opts,\n",
        "                                value=tuple(v for _, v in _label_opts),\n",
        "                                description=\"Label %\")\n",
        "modes_ms     = W.SelectMultiple(options=[\"mlp\", \"pykan\", \"fastkan\"],\n",
        "                                value=(\"mlp\", \"pykan\", \"fastkan\"),\n",
        "                                description=\"Models\")\n",
        "seeds_text   = W.Text(value=\"42\", description=\"Seeds (comma-sep)\")\n",
        "epochs_int   = W.IntSlider(value=150, min=20, max=300, step=10, description=\"Epochs\")\n",
        "patience_int = W.IntSlider(value=20, min=5, max=60, step=5, description=\"Patience\")\n",
        "lr_float     = W.FloatLogSlider(value=3e-3, base=10, min=-5, max=-1, step=0.2,\n",
        "                                description=\"LR\")\n",
        "wd_float     = W.FloatLogSlider(value=1e-4, base=10, min=-6, max=-2, step=0.2,\n",
        "                                description=\"Weight Decay\")\n",
        "smooth_float = W.FloatSlider(value=0.1, min=0.0, max=0.2, step=0.01,\n",
        "                             description=\"Label Smooth\")\n",
        "match_cb     = W.Checkbox(value=True, description=\"Param-match KAN\")\n",
        "ece_bins_int = W.IntSlider(value=15, min=5, max=40, step=1, description=\"ECE bins\")\n",
        "device_dd    = W.Dropdown(options=[\"auto\", \"cuda\", \"cpu\"], value=\"auto\",\n",
        "                          description=\"Device\")\n",
        "\n",
        "drive_path_text = W.Text(\n",
        "    value=\"MyDrive/Colab_KAN_Runs\",\n",
        "    description=\"Google Drive Path\",\n",
        "    style={'description_width': 'initial'},\n",
        "    layout=W.Layout(width='50%')\n",
        ")\n",
        "\n",
        "run_btn = W.Button(description=\"Run\", button_style=\"primary\", icon=\"play\")\n",
        "stop_btn = W.Button(description=\"Stop\", button_style=\"danger\", icon=\"stop\")\n",
        "\n",
        "_cancelled = False\n",
        "out = W.Output()\n",
        "\n",
        "ui = W.VBox([\n",
        "    W.HBox([dataset_dd, labels_ms, modes_ms]),\n",
        "    W.HBox([seeds_text, epochs_int, patience_int]),\n",
        "    W.HBox([lr_float, wd_float, smooth_float]),\n",
        "    W.HBox([match_cb, ece_bins_int, device_dd]),\n",
        "    drive_path_text,\n",
        "    W.HBox([run_btn, stop_btn]),\n",
        "    out,\n",
        "])\n",
        "display(ui)\n",
        "\n",
        "# ------------------------------------------------------------------\n",
        "#  Helper utilities\n",
        "# ------------------------------------------------------------------\n",
        "def _pick_device(val: str) -> str:\n",
        "    return \"cuda\" if torch.cuda.is_available() else \"cpu\" if val == \"auto\" else val\n",
        "\n",
        "# ------------------------------------------------------------------\n",
        "#  Stop button handler\n",
        "# ------------------------------------------------------------------\n",
        "@stop_btn.on_click\n",
        "def _stop(_b):\n",
        "    global _cancelled\n",
        "    _cancelled = True\n",
        "    with out:\n",
        "        print(\"\\n[STOP] Cancellation requested – will finish current fraction.\")\n",
        "\n",
        "# ------------------------------------------------------------------\n",
        "#  Run button handler\n",
        "# ------------------------------------------------------------------\n",
        "@run_btn.on_click\n",
        "def _run(_b):\n",
        "    global _cancelled\n",
        "    _cancelled = False\n",
        "    import traceback\n",
        "\n",
        "    with out:\n",
        "        clear_output(wait=True)\n",
        "\n",
        "        # Normalised, absolute Drive path\n",
        "        gdrive_base_path = Path(\"/content/drive\") / Path(drive_path_text.value.strip(\"/\"))\n",
        "        gdrive_base_path.mkdir(parents=True, exist_ok=True)\n",
        "\n",
        "        modes = list(modes_ms.value)\n",
        "        try:\n",
        "            seeds = [int(s.strip()) for s in seeds_text.value.split(\",\") if s.strip()]\n",
        "        except ValueError:\n",
        "            print(\"❌ Invalid seeds format. Use comma-separated integers (e.g., 42, 43).\")\n",
        "            return\n",
        "\n",
        "        fractions = list(labels_ms.value)\n",
        "        if not fractions:\n",
        "            print(\"❌ Select at least one label fraction.\")\n",
        "            return\n",
        "\n",
        "        all_results = []\n",
        "        print(f\"📁 Results will be saved to: {gdrive_base_path}\")\n",
        "        print(f\"Running {modes} on {dataset_dd.value} with seeds: {seeds}\")\n",
        "        print(f\"Fractions: {', '.join(f'{f*100:.1f}%' for f in fractions)}\")\n",
        "\n",
        "        for frac in fractions:\n",
        "            if _cancelled:\n",
        "                print(\"\\n[STOP] Cancelled mid-run.\")\n",
        "                break\n",
        "\n",
        "            print(f\"\\n===== Label fraction {frac*100:.1f}% =====\")\n",
        "            try:\n",
        "                df, logits_targets_dict = run_experiment(\n",
        "                    dataset=dataset_dd.value,\n",
        "                    label_fraction=frac,\n",
        "                    modes=modes,\n",
        "                    seeds=seeds,\n",
        "                    device=_pick_device(device_dd.value),\n",
        "                    epochs=int(epochs_int.value),\n",
        "                    patience=int(patience_int.value),\n",
        "                    lr=float(lr_float.value),\n",
        "                    weight_decay=float(wd_float.value),\n",
        "                    smoothing=float(smooth_float.value),\n",
        "                    match_params=bool(match_cb.value),\n",
        "                    ece_bins=int(ece_bins_int.value),\n",
        "                )\n",
        "            except Exception as e:\n",
        "                print(\"💥 Exception during run_experiment:\")\n",
        "                traceback.print_exc()\n",
        "                continue\n",
        "\n",
        "            df[\"label_fraction\"] = frac\n",
        "            all_results.append(df.copy())\n",
        "\n",
        "            run_id = (\n",
        "                f\"{dataset_dd.value}_labels{int(frac*100)}_\"\n",
        "                f\"{'match' if match_cb.value else 'nomatch'}_\"\n",
        "                f\"epochs{epochs_int.value}_\"\n",
        "                f\"seeds{'-'.join(map(str, seeds))}\"\n",
        "            )\n",
        "\n",
        "            csv_path = gdrive_base_path / f\"results_{run_id}.csv\"\n",
        "            df.to_csv(csv_path, index=False)\n",
        "            print(f\"✅ Saved CSV → {csv_path}\")\n",
        "\n",
        "            # Metric summary plot\n",
        "            fig = plot_metric_summary(\n",
        "                df, metrics=[\"acc\", \"ece\"], combine=True, show=False\n",
        "            )\n",
        "            if fig:\n",
        "                metrics_path = gdrive_base_path / f\"metrics_{run_id}.png\"\n",
        "                fig.savefig(metrics_path, dpi=200, bbox_inches=\"tight\")\n",
        "                plt.close(fig)\n",
        "                print(f\"✅ Saved Metrics Plot → {metrics_path}\")\n",
        "\n",
        "            # Reliability diagram\n",
        "            fig = plot_reliability(\n",
        "                logits_targets_dict,\n",
        "                n_bins=int(ece_bins_int.value),\n",
        "                title=f\"{dataset_dd.value.upper()} @ {frac*100:.1f}%\",\n",
        "                show=False,\n",
        "            )\n",
        "            if fig:\n",
        "                reliability_path = gdrive_base_path / f\"reliability_{run_id}.png\"\n",
        "                fig.savefig(reliability_path, dpi=200, bbox_inches=\"tight\")\n",
        "                plt.close(fig)\n",
        "                print(f\"✅ Saved Reliability Plot → {reliability_path}\")\n",
        "\n",
        "        if all_results:\n",
        "            full = pd.concat(all_results, ignore_index=True)\n",
        "            full_csv_name = (\n",
        "                f\"combined_{dataset_dd.value}_\"\n",
        "                f\"{'match' if match_cb.value else 'nomatch'}_\"\n",
        "                f\"epochs{epochs_int.value}_\"\n",
        "                f\"seeds{'-'.join(map(str, seeds))}.csv\"\n",
        "            )\n",
        "            full_csv_path = gdrive_base_path / full_csv_name\n",
        "            full.to_csv(full_csv_path, index=False)\n",
        "            print(f\"\\n✅ Saved combined CSV → {full_csv_path}\")\n",
        "            display(full)\n",
        "\n",
        "        print(\"\\nAll done.\")"
      ]
    }
  ],
  "metadata": {
    "accelerator": "GPU",
    "colab": {
      "gpuType": "T4",
      "provenance": []
    },
    "kernelspec": {
      "display_name": "Python 3",
      "name": "python3"
    },
    "language_info": {
      "codemirror_mode": {
        "name": "ipython",
        "version": 3
      },
      "file_extension": ".py",
      "mimetype": "text/x-python",
      "name": "python",
      "nbconvert_exporter": "python",
      "pygments_lexer": "ipython3",
      "version": "3.11.0"
    },
    "widgets": {
      "application/vnd.jupyter.widget-state+json": {
        "03ffafc3cc1b455883e27a14cf16d727": {
          "model_module": "@jupyter-widgets/controls",
          "model_module_version": "1.5.0",
          "model_name": "HBoxModel",
          "state": {
            "_dom_classes": [],
            "_model_module": "@jupyter-widgets/controls",
            "_model_module_version": "1.5.0",
            "_model_name": "HBoxModel",
            "_view_count": null,
            "_view_module": "@jupyter-widgets/controls",
            "_view_module_version": "1.5.0",
            "_view_name": "HBoxView",
            "box_style": "",
            "children": [
              "IPY_MODEL_38d094aa71294356ae445fa399c20e5b",
              "IPY_MODEL_64fc5b6b13dc47cea4a29d473d86b47a",
              "IPY_MODEL_9a9113b4e6bc48329a6a29333beb776a"
            ],
            "layout": "IPY_MODEL_7458e3019d9346eb8c43cb4270920cc0"
          }
        },
        "07d8781dca0644dd94a29a7983bd99ff": {
          "model_module": "@jupyter-widgets/base",
          "model_module_version": "1.2.0",
          "model_name": "LayoutModel",
          "state": {
            "_model_module": "@jupyter-widgets/base",
            "_model_module_version": "1.2.0",
            "_model_name": "LayoutModel",
            "_view_count": null,
            "_view_module": "@jupyter-widgets/base",
            "_view_module_version": "1.2.0",
            "_view_name": "LayoutView",
            "align_content": null,
            "align_items": null,
            "align_self": null,
            "border": null,
            "bottom": null,
            "display": null,
            "flex": null,
            "flex_flow": null,
            "grid_area": null,
            "grid_auto_columns": null,
            "grid_auto_flow": null,
            "grid_auto_rows": null,
            "grid_column": null,
            "grid_gap": null,
            "grid_row": null,
            "grid_template_areas": null,
            "grid_template_columns": null,
            "grid_template_rows": null,
            "height": null,
            "justify_content": null,
            "justify_items": null,
            "left": null,
            "margin": null,
            "max_height": null,
            "max_width": null,
            "min_height": null,
            "min_width": null,
            "object_fit": null,
            "object_position": null,
            "order": null,
            "overflow": null,
            "overflow_x": null,
            "overflow_y": null,
            "padding": null,
            "right": null,
            "top": null,
            "visibility": null,
            "width": null
          }
        },
        "1de2af3d4e884a5e8eef04908b32114a": {
          "model_module": "@jupyter-widgets/base",
          "model_module_version": "1.2.0",
          "model_name": "LayoutModel",
          "state": {
            "_model_module": "@jupyter-widgets/base",
            "_model_module_version": "1.2.0",
            "_model_name": "LayoutModel",
            "_view_count": null,
            "_view_module": "@jupyter-widgets/base",
            "_view_module_version": "1.2.0",
            "_view_name": "LayoutView",
            "align_content": null,
            "align_items": null,
            "align_self": null,
            "border": null,
            "bottom": null,
            "display": null,
            "flex": null,
            "flex_flow": null,
            "grid_area": null,
            "grid_auto_columns": null,
            "grid_auto_flow": null,
            "grid_auto_rows": null,
            "grid_column": null,
            "grid_gap": null,
            "grid_row": null,
            "grid_template_areas": null,
            "grid_template_columns": null,
            "grid_template_rows": null,
            "height": null,
            "justify_content": null,
            "justify_items": null,
            "left": null,
            "margin": null,
            "max_height": null,
            "max_width": null,
            "min_height": null,
            "min_width": null,
            "object_fit": null,
            "object_position": null,
            "order": null,
            "overflow": null,
            "overflow_x": null,
            "overflow_y": null,
            "padding": null,
            "right": null,
            "top": null,
            "visibility": null,
            "width": null
          }
        },
        "1f918d66e5804d53aa3453acd45ddac5": {
          "model_module": "@jupyter-widgets/controls",
          "model_module_version": "1.5.0",
          "model_name": "DescriptionStyleModel",
          "state": {
            "_model_module": "@jupyter-widgets/controls",
            "_model_module_version": "1.5.0",
            "_model_name": "DescriptionStyleModel",
            "_view_count": null,
            "_view_module": "@jupyter-widgets/base",
            "_view_module_version": "1.2.0",
            "_view_name": "StyleView",
            "description_width": ""
          }
        },
        "20ef2c99a00542f886908461f46c36cb": {
          "model_module": "@jupyter-widgets/controls",
          "model_module_version": "1.5.0",
          "model_name": "SliderStyleModel",
          "state": {
            "_model_module": "@jupyter-widgets/controls",
            "_model_module_version": "1.5.0",
            "_model_name": "SliderStyleModel",
            "_view_count": null,
            "_view_module": "@jupyter-widgets/base",
            "_view_module_version": "1.2.0",
            "_view_name": "StyleView",
            "description_width": "",
            "handle_color": null
          }
        },
        "21e413c62cbb4d1085584c71740c59f6": {
          "model_module": "@jupyter-widgets/base",
          "model_module_version": "1.2.0",
          "model_name": "LayoutModel",
          "state": {
            "_model_module": "@jupyter-widgets/base",
            "_model_module_version": "1.2.0",
            "_model_name": "LayoutModel",
            "_view_count": null,
            "_view_module": "@jupyter-widgets/base",
            "_view_module_version": "1.2.0",
            "_view_name": "LayoutView",
            "align_content": null,
            "align_items": null,
            "align_self": null,
            "border": null,
            "bottom": null,
            "display": null,
            "flex": null,
            "flex_flow": null,
            "grid_area": null,
            "grid_auto_columns": null,
            "grid_auto_flow": null,
            "grid_auto_rows": null,
            "grid_column": null,
            "grid_gap": null,
            "grid_row": null,
            "grid_template_areas": null,
            "grid_template_columns": null,
            "grid_template_rows": null,
            "height": null,
            "justify_content": null,
            "justify_items": null,
            "left": null,
            "margin": null,
            "max_height": null,
            "max_width": null,
            "min_height": null,
            "min_width": null,
            "object_fit": null,
            "object_position": null,
            "order": null,
            "overflow": null,
            "overflow_x": null,
            "overflow_y": null,
            "padding": null,
            "right": null,
            "top": null,
            "visibility": null,
            "width": null
          }
        },
        "2a86119f06de4f8eb4e5ee2614abd0bb": {
          "model_module": "@jupyter-widgets/controls",
          "model_module_version": "1.5.0",
          "model_name": "IntSliderModel",
          "state": {
            "_dom_classes": [],
            "_model_module": "@jupyter-widgets/controls",
            "_model_module_version": "1.5.0",
            "_model_name": "IntSliderModel",
            "_view_count": null,
            "_view_module": "@jupyter-widgets/controls",
            "_view_module_version": "1.5.0",
            "_view_name": "IntSliderView",
            "continuous_update": true,
            "description": "Epochs",
            "description_tooltip": null,
            "disabled": false,
            "layout": "IPY_MODEL_51c53951bdbf45bab9ddb0ee6b4d23ec",
            "max": 300,
            "min": 20,
            "orientation": "horizontal",
            "readout": true,
            "readout_format": "d",
            "step": 10,
            "style": "IPY_MODEL_e6cfdf7d48a54aa7860bcd73dc84aaed",
            "value": 150
          }
        },
        "2d6bac89c30b4b438821f15054975d5c": {
          "model_module": "@jupyter-widgets/controls",
          "model_module_version": "1.5.0",
          "model_name": "ButtonStyleModel",
          "state": {
            "_model_module": "@jupyter-widgets/controls",
            "_model_module_version": "1.5.0",
            "_model_name": "ButtonStyleModel",
            "_view_count": null,
            "_view_module": "@jupyter-widgets/base",
            "_view_module_version": "1.2.0",
            "_view_name": "StyleView",
            "button_color": null,
            "font_weight": ""
          }
        },
        "2de9680ffd754f83b7614e27fc5b020a": {
          "model_module": "@jupyter-widgets/base",
          "model_module_version": "1.2.0",
          "model_name": "LayoutModel",
          "state": {
            "_model_module": "@jupyter-widgets/base",
            "_model_module_version": "1.2.0",
            "_model_name": "LayoutModel",
            "_view_count": null,
            "_view_module": "@jupyter-widgets/base",
            "_view_module_version": "1.2.0",
            "_view_name": "LayoutView",
            "align_content": null,
            "align_items": null,
            "align_self": null,
            "border": null,
            "bottom": null,
            "display": null,
            "flex": null,
            "flex_flow": null,
            "grid_area": null,
            "grid_auto_columns": null,
            "grid_auto_flow": null,
            "grid_auto_rows": null,
            "grid_column": null,
            "grid_gap": null,
            "grid_row": null,
            "grid_template_areas": null,
            "grid_template_columns": null,
            "grid_template_rows": null,
            "height": null,
            "justify_content": null,
            "justify_items": null,
            "left": null,
            "margin": null,
            "max_height": null,
            "max_width": null,
            "min_height": null,
            "min_width": null,
            "object_fit": null,
            "object_position": null,
            "order": null,
            "overflow": null,
            "overflow_x": null,
            "overflow_y": null,
            "padding": null,
            "right": null,
            "top": null,
            "visibility": null,
            "width": null
          }
        },
        "2f8cdee8e00448d4be967422f47df1d9": {
          "model_module": "@jupyter-widgets/base",
          "model_module_version": "1.2.0",
          "model_name": "LayoutModel",
          "state": {
            "_model_module": "@jupyter-widgets/base",
            "_model_module_version": "1.2.0",
            "_model_name": "LayoutModel",
            "_view_count": null,
            "_view_module": "@jupyter-widgets/base",
            "_view_module_version": "1.2.0",
            "_view_name": "LayoutView",
            "align_content": null,
            "align_items": null,
            "align_self": null,
            "border": null,
            "bottom": null,
            "display": null,
            "flex": null,
            "flex_flow": null,
            "grid_area": null,
            "grid_auto_columns": null,
            "grid_auto_flow": null,
            "grid_auto_rows": null,
            "grid_column": null,
            "grid_gap": null,
            "grid_row": null,
            "grid_template_areas": null,
            "grid_template_columns": null,
            "grid_template_rows": null,
            "height": null,
            "justify_content": null,
            "justify_items": null,
            "left": null,
            "margin": null,
            "max_height": null,
            "max_width": null,
            "min_height": null,
            "min_width": null,
            "object_fit": null,
            "object_position": null,
            "order": null,
            "overflow": null,
            "overflow_x": null,
            "overflow_y": null,
            "padding": null,
            "right": null,
            "top": null,
            "visibility": null,
            "width": null
          }
        },
        "2ffd72b0c23148f6ad3602a002b6de93": {
          "model_module": "@jupyter-widgets/controls",
          "model_module_version": "1.5.0",
          "model_name": "SelectMultipleModel",
          "state": {
            "_dom_classes": [],
            "_model_module": "@jupyter-widgets/controls",
            "_model_module_version": "1.5.0",
            "_model_name": "SelectMultipleModel",
            "_options_labels": [
              "0.5%",
              "1%",
              "2%",
              "5%"
            ],
            "_view_count": null,
            "_view_module": "@jupyter-widgets/controls",
            "_view_module_version": "1.5.0",
            "_view_name": "SelectMultipleView",
            "description": "Label %",
            "description_tooltip": null,
            "disabled": false,
            "index": [
              0,
              1,
              2,
              3
            ],
            "layout": "IPY_MODEL_1de2af3d4e884a5e8eef04908b32114a",
            "rows": 5,
            "style": "IPY_MODEL_e7e491e09c324ca6becadf56c99882e6"
          }
        },
        "311e6c947e2f450e9519cf90b2763dcf": {
          "model_module": "@jupyter-widgets/controls",
          "model_module_version": "1.5.0",
          "model_name": "ButtonModel",
          "state": {
            "_dom_classes": [],
            "_model_module": "@jupyter-widgets/controls",
            "_model_module_version": "1.5.0",
            "_model_name": "ButtonModel",
            "_view_count": null,
            "_view_module": "@jupyter-widgets/controls",
            "_view_module_version": "1.5.0",
            "_view_name": "ButtonView",
            "button_style": "primary",
            "description": "Run",
            "disabled": false,
            "icon": "play",
            "layout": "IPY_MODEL_35fa0656d6ea4158b4132960f559c7bd",
            "style": "IPY_MODEL_2d6bac89c30b4b438821f15054975d5c",
            "tooltip": ""
          }
        },
        "35fa0656d6ea4158b4132960f559c7bd": {
          "model_module": "@jupyter-widgets/base",
          "model_module_version": "1.2.0",
          "model_name": "LayoutModel",
          "state": {
            "_model_module": "@jupyter-widgets/base",
            "_model_module_version": "1.2.0",
            "_model_name": "LayoutModel",
            "_view_count": null,
            "_view_module": "@jupyter-widgets/base",
            "_view_module_version": "1.2.0",
            "_view_name": "LayoutView",
            "align_content": null,
            "align_items": null,
            "align_self": null,
            "border": null,
            "bottom": null,
            "display": null,
            "flex": null,
            "flex_flow": null,
            "grid_area": null,
            "grid_auto_columns": null,
            "grid_auto_flow": null,
            "grid_auto_rows": null,
            "grid_column": null,
            "grid_gap": null,
            "grid_row": null,
            "grid_template_areas": null,
            "grid_template_columns": null,
            "grid_template_rows": null,
            "height": null,
            "justify_content": null,
            "justify_items": null,
            "left": null,
            "margin": null,
            "max_height": null,
            "max_width": null,
            "min_height": null,
            "min_width": null,
            "object_fit": null,
            "object_position": null,
            "order": null,
            "overflow": null,
            "overflow_x": null,
            "overflow_y": null,
            "padding": null,
            "right": null,
            "top": null,
            "visibility": null,
            "width": null
          }
        },
        "38d094aa71294356ae445fa399c20e5b": {
          "model_module": "@jupyter-widgets/controls",
          "model_module_version": "1.5.0",
          "model_name": "CheckboxModel",
          "state": {
            "_dom_classes": [],
            "_model_module": "@jupyter-widgets/controls",
            "_model_module_version": "1.5.0",
            "_model_name": "CheckboxModel",
            "_view_count": null,
            "_view_module": "@jupyter-widgets/controls",
            "_view_module_version": "1.5.0",
            "_view_name": "CheckboxView",
            "description": "Param-match KAN",
            "description_tooltip": null,
            "disabled": false,
            "indent": true,
            "layout": "IPY_MODEL_b4c143d87481470f9c9cb787249de337",
            "style": "IPY_MODEL_9c3f7b36ed8c48a1b8a9969fd927fefd",
            "value": true
          }
        },
        "3c642a08f56e443fbb0e4fae93ea9ee4": {
          "model_module": "@jupyter-widgets/base",
          "model_module_version": "1.2.0",
          "model_name": "LayoutModel",
          "state": {
            "_model_module": "@jupyter-widgets/base",
            "_model_module_version": "1.2.0",
            "_model_name": "LayoutModel",
            "_view_count": null,
            "_view_module": "@jupyter-widgets/base",
            "_view_module_version": "1.2.0",
            "_view_name": "LayoutView",
            "align_content": null,
            "align_items": null,
            "align_self": null,
            "border": null,
            "bottom": null,
            "display": null,
            "flex": null,
            "flex_flow": null,
            "grid_area": null,
            "grid_auto_columns": null,
            "grid_auto_flow": null,
            "grid_auto_rows": null,
            "grid_column": null,
            "grid_gap": null,
            "grid_row": null,
            "grid_template_areas": null,
            "grid_template_columns": null,
            "grid_template_rows": null,
            "height": null,
            "justify_content": null,
            "justify_items": null,
            "left": null,
            "margin": null,
            "max_height": null,
            "max_width": null,
            "min_height": null,
            "min_width": null,
            "object_fit": null,
            "object_position": null,
            "order": null,
            "overflow": null,
            "overflow_x": null,
            "overflow_y": null,
            "padding": null,
            "right": null,
            "top": null,
            "visibility": null,
            "width": "50%"
          }
        },
        "3cb416e4d6ed4c1badf6ecd567083ffe": {
          "model_module": "@jupyter-widgets/output",
          "model_module_version": "1.0.0",
          "model_name": "OutputModel",
          "state": {
            "_dom_classes": [],
            "_model_module": "@jupyter-widgets/output",
            "_model_module_version": "1.0.0",
            "_model_name": "OutputModel",
            "_view_count": null,
            "_view_module": "@jupyter-widgets/output",
            "_view_module_version": "1.0.0",
            "_view_name": "OutputView",
            "layout": "IPY_MODEL_47bb64b829164435995492f49a2d60bf",
            "msg_id": "31603769-7103-44b1-8c4b-271e0b95507b",
            "outputs": [
              {
                "name": "stdout",
                "output_type": "stream",
                "text": [
                  "📁 Results will be saved to: /content/drive/MyDrive/Colab_KAN_Runs\n",
                  "Running ['mlp', 'pykan', 'fastkan'] on cifar10 with seeds: [42, 43, 44, 45, 46]\n",
                  "Fractions: 0.5%, 1.0%, 2.0%, 5.0%\n",
                  "\n",
                  "===== Label fraction 0.5% =====\n",
                  "\n",
                  "=====  SEED 42  =====\n"
                ]
              },
              {
                "name": "stdout",
                "output_type": "stream",
                "text": [
                  "checkpoint directory created: ./model\n",
                  "saving model version 0.0\n"
                ]
              },
              {
                "name": "stdout",
                "output_type": "stream",
                "text": [
                  "checkpoint directory created: ./model\n",
                  "saving model version 0.0\n"
                ]
              },
              {
                "name": "stdout",
                "output_type": "stream",
                "text": [
                  "checkpoint directory created: ./model\n",
                  "saving model version 0.0\n"
                ]
              },
              {
                "name": "stdout",
                "output_type": "stream",
                "text": [
                  "checkpoint directory created: ./model\n",
                  "saving model version 0.0\n"
                ]
              },
              {
                "name": "stdout",
                "output_type": "stream",
                "text": [
                  "checkpoint directory created: ./model\n",
                  "saving model version 0.0\n"
                ]
              },
              {
                "name": "stdout",
                "output_type": "stream",
                "text": [
                  "checkpoint directory created: ./model\n",
                  "saving model version 0.0\n"
                ]
              },
              {
                "name": "stdout",
                "output_type": "stream",
                "text": [
                  "checkpoint directory created: ./model\n",
                  "saving model version 0.0\n"
                ]
              },
              {
                "name": "stdout",
                "output_type": "stream",
                "text": [
                  "checkpoint directory created: ./model\n",
                  "saving model version 0.0\n"
                ]
              },
              {
                "name": "stdout",
                "output_type": "stream",
                "text": [
                  "checkpoint directory created: ./model\n",
                  "saving model version 0.0\n"
                ]
              },
              {
                "name": "stdout",
                "output_type": "stream",
                "text": [
                  "checkpoint directory created: ./model\n",
                  "saving model version 0.0\n"
                ]
              },
              {
                "name": "stdout",
                "output_type": "stream",
                "text": [
                  "checkpoint directory created: ./model\n",
                  "saving model version 0.0\n"
                ]
              },
              {
                "name": "stdout",
                "output_type": "stream",
                "text": [
                  "checkpoint directory created: ./model\n",
                  "saving model version 0.0\n"
                ]
              },
              {
                "name": "stdout",
                "output_type": "stream",
                "text": [
                  "checkpoint directory created: ./model\n",
                  "saving model version 0.0\n"
                ]
              },
              {
                "name": "stdout",
                "output_type": "stream",
                "text": [
                  "checkpoint directory created: ./model\n",
                  "saving model version 0.0\n"
                ]
              },
              {
                "name": "stdout",
                "output_type": "stream",
                "text": [
                  "checkpoint directory created: ./model\n",
                  "saving model version 0.0\n"
                ]
              },
              {
                "name": "stdout",
                "output_type": "stream",
                "text": [
                  "checkpoint directory created: ./model\n",
                  "saving model version 0.0\n"
                ]
              },
              {
                "name": "stdout",
                "output_type": "stream",
                "text": [
                  "checkpoint directory created: ./model\n",
                  "saving model version 0.0\n"
                ]
              },
              {
                "name": "stdout",
                "output_type": "stream",
                "text": [
                  "checkpoint directory created: ./model\n",
                  "saving model version 0.0\n"
                ]
              },
              {
                "name": "stdout",
                "output_type": "stream",
                "text": [
                  "checkpoint directory created: ./model\n",
                  "saving model version 0.0\n"
                ]
              },
              {
                "name": "stdout",
                "output_type": "stream",
                "text": [
                  "checkpoint directory created: ./model\n",
                  "saving model version 0.0\n"
                ]
              },
              {
                "name": "stdout",
                "output_type": "stream",
                "text": [
                  "checkpoint directory created: ./model\n",
                  "saving model version 0.0\n"
                ]
              },
              {
                "name": "stdout",
                "output_type": "stream",
                "text": [
                  "checkpoint directory created: ./model\n",
                  "saving model version 0.0\n"
                ]
              },
              {
                "name": "stdout",
                "output_type": "stream",
                "text": [
                  "checkpoint directory created: ./model\n",
                  "saving model version 0.0\n"
                ]
              },
              {
                "name": "stdout",
                "output_type": "stream",
                "text": [
                  "checkpoint directory created: ./model\n",
                  "saving model version 0.0\n"
                ]
              },
              {
                "name": "stdout",
                "output_type": "stream",
                "text": [
                  "checkpoint directory created: ./model\n",
                  "saving model version 0.0\n"
                ]
              },
              {
                "name": "stdout",
                "output_type": "stream",
                "text": [
                  "checkpoint directory created: ./model\n",
                  "saving model version 0.0\n"
                ]
              },
              {
                "name": "stdout",
                "output_type": "stream",
                "text": [
                  "checkpoint directory created: ./model\n",
                  "saving model version 0.0\n"
                ]
              },
              {
                "name": "stdout",
                "output_type": "stream",
                "text": [
                  "checkpoint directory created: ./model\n",
                  "saving model version 0.0\n"
                ]
              },
              {
                "name": "stdout",
                "output_type": "stream",
                "text": [
                  "checkpoint directory created: ./model\n",
                  "saving model version 0.0\n"
                ]
              },
              {
                "name": "stdout",
                "output_type": "stream",
                "text": [
                  "checkpoint directory created: ./model\n",
                  "saving model version 0.0\n"
                ]
              },
              {
                "name": "stdout",
                "output_type": "stream",
                "text": [
                  "checkpoint directory created: ./model\n",
                  "saving model version 0.0\n"
                ]
              },
              {
                "name": "stdout",
                "output_type": "stream",
                "text": [
                  "checkpoint directory created: ./model\n",
                  "saving model version 0.0\n"
                ]
              },
              {
                "name": "stdout",
                "output_type": "stream",
                "text": [
                  "checkpoint directory created: ./model\n",
                  "saving model version 0.0\n"
                ]
              },
              {
                "name": "stdout",
                "output_type": "stream",
                "text": [
                  "checkpoint directory created: ./model\n",
                  "saving model version 0.0\n"
                ]
              },
              {
                "name": "stdout",
                "output_type": "stream",
                "text": [
                  "checkpoint directory created: ./model\n",
                  "saving model version 0.0\n"
                ]
              },
              {
                "name": "stdout",
                "output_type": "stream",
                "text": [
                  "checkpoint directory created: ./model\n",
                  "saving model version 0.0\n"
                ]
              },
              {
                "name": "stdout",
                "output_type": "stream",
                "text": [
                  "checkpoint directory created: ./model\n",
                  "saving model version 0.0\n"
                ]
              },
              {
                "name": "stdout",
                "output_type": "stream",
                "text": [
                  "checkpoint directory created: ./model\n",
                  "saving model version 0.0\n"
                ]
              },
              {
                "name": "stdout",
                "output_type": "stream",
                "text": [
                  "checkpoint directory created: ./model\n",
                  "saving model version 0.0\n"
                ]
              },
              {
                "name": "stdout",
                "output_type": "stream",
                "text": [
                  "checkpoint directory created: ./model\n",
                  "saving model version 0.0\n"
                ]
              },
              {
                "name": "stdout",
                "output_type": "stream",
                "text": [
                  "checkpoint directory created: ./model\n",
                  "saving model version 0.0\n"
                ]
              },
              {
                "name": "stdout",
                "output_type": "stream",
                "text": [
                  "checkpoint directory created: ./model\n",
                  "saving model version 0.0\n"
                ]
              },
              {
                "name": "stdout",
                "output_type": "stream",
                "text": [
                  "checkpoint directory created: ./model\n",
                  "saving model version 0.0\n"
                ]
              },
              {
                "name": "stdout",
                "output_type": "stream",
                "text": [
                  "checkpoint directory created: ./model\n",
                  "saving model version 0.0\n"
                ]
              },
              {
                "name": "stdout",
                "output_type": "stream",
                "text": [
                  "checkpoint directory created: ./model\n",
                  "saving model version 0.0\n"
                ]
              },
              {
                "name": "stdout",
                "output_type": "stream",
                "text": [
                  "checkpoint directory created: ./model\n",
                  "saving model version 0.0\n"
                ]
              },
              {
                "name": "stdout",
                "output_type": "stream",
                "text": [
                  "checkpoint directory created: ./model\n",
                  "saving model version 0.0\n"
                ]
              },
              {
                "name": "stdout",
                "output_type": "stream",
                "text": [
                  "checkpoint directory created: ./model\n",
                  "saving model version 0.0\n"
                ]
              },
              {
                "name": "stdout",
                "output_type": "stream",
                "text": [
                  "checkpoint directory created: ./model\n",
                  "saving model version 0.0\n"
                ]
              },
              {
                "name": "stdout",
                "output_type": "stream",
                "text": [
                  "checkpoint directory created: ./model\n",
                  "saving model version 0.0\n"
                ]
              },
              {
                "name": "stdout",
                "output_type": "stream",
                "text": [
                  "checkpoint directory created: ./model\n",
                  "saving model version 0.0\n"
                ]
              },
              {
                "name": "stdout",
                "output_type": "stream",
                "text": [
                  "checkpoint directory created: ./model\n",
                  "saving model version 0.0\n"
                ]
              },
              {
                "name": "stdout",
                "output_type": "stream",
                "text": [
                  "checkpoint directory created: ./model\n",
                  "saving model version 0.0\n"
                ]
              },
              {
                "name": "stdout",
                "output_type": "stream",
                "text": [
                  "checkpoint directory created: ./model\n",
                  "saving model version 0.0\n"
                ]
              },
              {
                "name": "stdout",
                "output_type": "stream",
                "text": [
                  "checkpoint directory created: ./model\n",
                  "saving model version 0.0\n"
                ]
              },
              {
                "name": "stdout",
                "output_type": "stream",
                "text": [
                  "checkpoint directory created: ./model\n",
                  "saving model version 0.0\n"
                ]
              },
              {
                "name": "stdout",
                "output_type": "stream",
                "text": [
                  "checkpoint directory created: ./model\n",
                  "saving model version 0.0\n"
                ]
              },
              {
                "name": "stdout",
                "output_type": "stream",
                "text": [
                  "checkpoint directory created: ./model\n",
                  "saving model version 0.0\n"
                ]
              },
              {
                "name": "stdout",
                "output_type": "stream",
                "text": [
                  "checkpoint directory created: ./model\n",
                  "saving model version 0.0\n"
                ]
              },
              {
                "name": "stdout",
                "output_type": "stream",
                "text": [
                  "checkpoint directory created: ./model\n",
                  "saving model version 0.0\n"
                ]
              },
              {
                "name": "stdout",
                "output_type": "stream",
                "text": [
                  "checkpoint directory created: ./model\n",
                  "saving model version 0.0\n"
                ]
              },
              {
                "name": "stdout",
                "output_type": "stream",
                "text": [
                  "checkpoint directory created: ./model\n",
                  "saving model version 0.0\n"
                ]
              },
              {
                "name": "stdout",
                "output_type": "stream",
                "text": [
                  "checkpoint directory created: ./model\n",
                  "saving model version 0.0\n"
                ]
              },
              {
                "name": "stdout",
                "output_type": "stream",
                "text": [
                  "checkpoint directory created: ./model\n",
                  "saving model version 0.0\n"
                ]
              },
              {
                "name": "stdout",
                "output_type": "stream",
                "text": [
                  "checkpoint directory created: ./model\n",
                  "saving model version 0.0\n"
                ]
              },
              {
                "name": "stdout",
                "output_type": "stream",
                "text": [
                  "checkpoint directory created: ./model\n",
                  "saving model version 0.0\n"
                ]
              },
              {
                "name": "stdout",
                "output_type": "stream",
                "text": [
                  "checkpoint directory created: ./model\n",
                  "saving model version 0.0\n"
                ]
              },
              {
                "name": "stdout",
                "output_type": "stream",
                "text": [
                  "checkpoint directory created: ./model\n",
                  "saving model version 0.0\n"
                ]
              },
              {
                "name": "stdout",
                "output_type": "stream",
                "text": [
                  "checkpoint directory created: ./model\n",
                  "saving model version 0.0\n"
                ]
              },
              {
                "name": "stdout",
                "output_type": "stream",
                "text": [
                  "checkpoint directory created: ./model\n",
                  "saving model version 0.0\n"
                ]
              },
              {
                "name": "stdout",
                "output_type": "stream",
                "text": [
                  "checkpoint directory created: ./model\n",
                  "saving model version 0.0\n"
                ]
              },
              {
                "name": "stdout",
                "output_type": "stream",
                "text": [
                  "checkpoint directory created: ./model\n",
                  "saving model version 0.0\n"
                ]
              },
              {
                "name": "stdout",
                "output_type": "stream",
                "text": [
                  "checkpoint directory created: ./model\n",
                  "saving model version 0.0\n"
                ]
              },
              {
                "name": "stdout",
                "output_type": "stream",
                "text": [
                  "checkpoint directory created: ./model\n",
                  "saving model version 0.0\n"
                ]
              },
              {
                "name": "stdout",
                "output_type": "stream",
                "text": [
                  "checkpoint directory created: ./model\n",
                  "saving model version 0.0\n"
                ]
              },
              {
                "name": "stdout",
                "output_type": "stream",
                "text": [
                  "checkpoint directory created: ./model\n",
                  "saving model version 0.0\n"
                ]
              },
              {
                "name": "stdout",
                "output_type": "stream",
                "text": [
                  "checkpoint directory created: ./model\n",
                  "saving model version 0.0\n"
                ]
              },
              {
                "name": "stdout",
                "output_type": "stream",
                "text": [
                  "checkpoint directory created: ./model\n",
                  "saving model version 0.0\n"
                ]
              },
              {
                "name": "stdout",
                "output_type": "stream",
                "text": [
                  "checkpoint directory created: ./model\n",
                  "saving model version 0.0\n"
                ]
              },
              {
                "name": "stdout",
                "output_type": "stream",
                "text": [
                  "checkpoint directory created: ./model\n",
                  "saving model version 0.0\n"
                ]
              },
              {
                "name": "stdout",
                "output_type": "stream",
                "text": [
                  "checkpoint directory created: ./model\n",
                  "saving model version 0.0\n"
                ]
              },
              {
                "name": "stdout",
                "output_type": "stream",
                "text": [
                  "checkpoint directory created: ./model\n",
                  "saving model version 0.0\n"
                ]
              },
              {
                "name": "stdout",
                "output_type": "stream",
                "text": [
                  "checkpoint directory created: ./model\n",
                  "saving model version 0.0\n"
                ]
              },
              {
                "name": "stdout",
                "output_type": "stream",
                "text": [
                  "checkpoint directory created: ./model\n",
                  "saving model version 0.0\n"
                ]
              },
              {
                "name": "stdout",
                "output_type": "stream",
                "text": [
                  "checkpoint directory created: ./model\n",
                  "saving model version 0.0\n"
                ]
              },
              {
                "name": "stdout",
                "output_type": "stream",
                "text": [
                  "checkpoint directory created: ./model\n",
                  "saving model version 0.0\n"
                ]
              },
              {
                "name": "stdout",
                "output_type": "stream",
                "text": [
                  "checkpoint directory created: ./model\n",
                  "saving model version 0.0\n"
                ]
              },
              {
                "name": "stdout",
                "output_type": "stream",
                "text": [
                  "checkpoint directory created: ./model\n",
                  "saving model version 0.0\n"
                ]
              },
              {
                "name": "stdout",
                "output_type": "stream",
                "text": [
                  "checkpoint directory created: ./model\n",
                  "saving model version 0.0\n"
                ]
              },
              {
                "name": "stdout",
                "output_type": "stream",
                "text": [
                  "checkpoint directory created: ./model\n",
                  "saving model version 0.0\n"
                ]
              },
              {
                "name": "stdout",
                "output_type": "stream",
                "text": [
                  "checkpoint directory created: ./model\n",
                  "saving model version 0.0\n"
                ]
              },
              {
                "name": "stdout",
                "output_type": "stream",
                "text": [
                  "checkpoint directory created: ./model\n",
                  "saving model version 0.0\n"
                ]
              },
              {
                "name": "stdout",
                "output_type": "stream",
                "text": [
                  "checkpoint directory created: ./model\n",
                  "saving model version 0.0\n"
                ]
              },
              {
                "name": "stdout",
                "output_type": "stream",
                "text": [
                  "checkpoint directory created: ./model\n",
                  "saving model version 0.0\n"
                ]
              },
              {
                "name": "stdout",
                "output_type": "stream",
                "text": [
                  "checkpoint directory created: ./model\n",
                  "saving model version 0.0\n"
                ]
              },
              {
                "name": "stdout",
                "output_type": "stream",
                "text": [
                  "checkpoint directory created: ./model\n",
                  "saving model version 0.0\n"
                ]
              },
              {
                "name": "stdout",
                "output_type": "stream",
                "text": [
                  "checkpoint directory created: ./model\n",
                  "saving model version 0.0\n"
                ]
              },
              {
                "name": "stdout",
                "output_type": "stream",
                "text": [
                  "checkpoint directory created: ./model\n",
                  "saving model version 0.0\n"
                ]
              },
              {
                "name": "stdout",
                "output_type": "stream",
                "text": [
                  "checkpoint directory created: ./model\n",
                  "saving model version 0.0\n"
                ]
              },
              {
                "name": "stdout",
                "output_type": "stream",
                "text": [
                  "checkpoint directory created: ./model\n",
                  "saving model version 0.0\n"
                ]
              },
              {
                "name": "stdout",
                "output_type": "stream",
                "text": [
                  "checkpoint directory created: ./model\n",
                  "saving model version 0.0\n"
                ]
              },
              {
                "name": "stdout",
                "output_type": "stream",
                "text": [
                  "checkpoint directory created: ./model\n",
                  "saving model version 0.0\n"
                ]
              },
              {
                "name": "stdout",
                "output_type": "stream",
                "text": [
                  "checkpoint directory created: ./model\n",
                  "saving model version 0.0\n"
                ]
              },
              {
                "name": "stdout",
                "output_type": "stream",
                "text": [
                  "checkpoint directory created: ./model\n",
                  "saving model version 0.0\n"
                ]
              },
              {
                "name": "stdout",
                "output_type": "stream",
                "text": [
                  "checkpoint directory created: ./model\n",
                  "saving model version 0.0\n"
                ]
              },
              {
                "name": "stdout",
                "output_type": "stream",
                "text": [
                  "checkpoint directory created: ./model\n",
                  "saving model version 0.0\n"
                ]
              },
              {
                "name": "stdout",
                "output_type": "stream",
                "text": [
                  "checkpoint directory created: ./model\n",
                  "saving model version 0.0\n"
                ]
              },
              {
                "name": "stdout",
                "output_type": "stream",
                "text": [
                  "checkpoint directory created: ./model\n",
                  "saving model version 0.0\n"
                ]
              },
              {
                "name": "stdout",
                "output_type": "stream",
                "text": [
                  "checkpoint directory created: ./model\n",
                  "saving model version 0.0\n"
                ]
              },
              {
                "name": "stdout",
                "output_type": "stream",
                "text": [
                  "checkpoint directory created: ./model\n",
                  "saving model version 0.0\n"
                ]
              },
              {
                "name": "stdout",
                "output_type": "stream",
                "text": [
                  "checkpoint directory created: ./model\n",
                  "saving model version 0.0\n"
                ]
              },
              {
                "name": "stdout",
                "output_type": "stream",
                "text": [
                  "checkpoint directory created: ./model\n",
                  "saving model version 0.0\n"
                ]
              },
              {
                "name": "stdout",
                "output_type": "stream",
                "text": [
                  "checkpoint directory created: ./model\n",
                  "saving model version 0.0\n"
                ]
              },
              {
                "name": "stdout",
                "output_type": "stream",
                "text": [
                  "checkpoint directory created: ./model\n",
                  "saving model version 0.0\n"
                ]
              },
              {
                "name": "stdout",
                "output_type": "stream",
                "text": [
                  "checkpoint directory created: ./model\n",
                  "saving model version 0.0\n"
                ]
              },
              {
                "name": "stdout",
                "output_type": "stream",
                "text": [
                  "checkpoint directory created: ./model\n",
                  "saving model version 0.0\n"
                ]
              },
              {
                "name": "stdout",
                "output_type": "stream",
                "text": [
                  "checkpoint directory created: ./model\n",
                  "saving model version 0.0\n"
                ]
              },
              {
                "name": "stdout",
                "output_type": "stream",
                "text": [
                  "checkpoint directory created: ./model\n",
                  "saving model version 0.0\n"
                ]
              },
              {
                "name": "stdout",
                "output_type": "stream",
                "text": [
                  "checkpoint directory created: ./model\n",
                  "saving model version 0.0\n"
                ]
              },
              {
                "name": "stdout",
                "output_type": "stream",
                "text": [
                  "checkpoint directory created: ./model\n",
                  "saving model version 0.0\n"
                ]
              },
              {
                "name": "stdout",
                "output_type": "stream",
                "text": [
                  "checkpoint directory created: ./model\n",
                  "saving model version 0.0\n"
                ]
              },
              {
                "name": "stdout",
                "output_type": "stream",
                "text": [
                  "checkpoint directory created: ./model\n",
                  "saving model version 0.0\n"
                ]
              },
              {
                "name": "stdout",
                "output_type": "stream",
                "text": [
                  "checkpoint directory created: ./model\n",
                  "saving model version 0.0\n"
                ]
              },
              {
                "name": "stdout",
                "output_type": "stream",
                "text": [
                  "checkpoint directory created: ./model\n",
                  "saving model version 0.0\n",
                  "[Param-match] PyKAN  hidden=43  grid=3\n"
                ]
              },
              {
                "name": "stdout",
                "output_type": "stream",
                "text": [
                  "[Param-match] FastKAN hidden=85  grids=5\n",
                  "\n",
                  "---- MLP head ----\n"
                ]
              },
              {
                "name": "stderr",
                "output_type": "stream",
                "text": [
                  "/tmp/ipython-input-1127230522.py:83: FutureWarning: `torch.cuda.amp.GradScaler(args...)` is deprecated. Please use `torch.amp.GradScaler('cuda', args...)` instead.\n",
                  "  scaler = GradScaler(device_str, enabled=(device_str == \"cuda\"))\n"
                ]
              },
              {
                "name": "stdout",
                "output_type": "stream",
                "text": [
                  "💥 Exception during run_experiment:\n",
                  "\n",
                  "===== Label fraction 1.0% =====\n",
                  "\n",
                  "=====  SEED 42  =====\n"
                ]
              },
              {
                "name": "stderr",
                "output_type": "stream",
                "text": [
                  "/tmp/ipython-input-1127230522.py:105: FutureWarning: `torch.cuda.amp.autocast(args...)` is deprecated. Please use `torch.amp.autocast('cuda', args...)` instead.\n",
                  "  with autocast(device_str, enabled=(device_str == \"cuda\")):\n",
                  "Traceback (most recent call last):\n",
                  "  File \"/tmp/ipython-input-431229810.py\", line 112, in _run\n",
                  "    df, logits_targets_dict = run_experiment(\n",
                  "                              ^^^^^^^^^^^^^^^\n",
                  "  File \"/tmp/ipython-input-53751728.py\", line 170, in run_experiment\n",
                  "    base_res, logits_val, y_val, logits_test, y_test = train_head(\n",
                  "                                                       ^^^^^^^^^^^\n",
                  "  File \"/tmp/ipython-input-1127230522.py\", line 105, in train_head\n",
                  "    with autocast(device_str, enabled=(device_str == \"cuda\")):\n",
                  "         ^^^^^^^^^^^^^^^^^^^^^^^^^^^^^^^^^^^^^^^^^^^^^^^^^^^^\n",
                  "  File \"/usr/local/lib/python3.11/dist-packages/typing_extensions.py\", line 2956, in wrapper\n",
                  "    return arg(*args, **kwargs)\n",
                  "           ^^^^^^^^^^^^^^^^^^^^\n",
                  "TypeError: autocast.__init__() got multiple values for argument 'enabled'\n"
                ]
              },
              {
                "name": "stdout",
                "output_type": "stream",
                "text": [
                  "checkpoint directory created: ./model\n",
                  "saving model version 0.0\n"
                ]
              },
              {
                "name": "stdout",
                "output_type": "stream",
                "text": [
                  "checkpoint directory created: ./model\n",
                  "saving model version 0.0\n"
                ]
              },
              {
                "name": "stdout",
                "output_type": "stream",
                "text": [
                  "checkpoint directory created: ./model\n",
                  "saving model version 0.0\n"
                ]
              },
              {
                "name": "stdout",
                "output_type": "stream",
                "text": [
                  "checkpoint directory created: ./model\n",
                  "saving model version 0.0\n"
                ]
              },
              {
                "name": "stdout",
                "output_type": "stream",
                "text": [
                  "checkpoint directory created: ./model\n",
                  "saving model version 0.0\n"
                ]
              },
              {
                "name": "stdout",
                "output_type": "stream",
                "text": [
                  "checkpoint directory created: ./model\n",
                  "saving model version 0.0\n"
                ]
              },
              {
                "name": "stdout",
                "output_type": "stream",
                "text": [
                  "checkpoint directory created: ./model\n",
                  "saving model version 0.0\n"
                ]
              },
              {
                "name": "stdout",
                "output_type": "stream",
                "text": [
                  "checkpoint directory created: ./model\n",
                  "saving model version 0.0\n"
                ]
              },
              {
                "name": "stdout",
                "output_type": "stream",
                "text": [
                  "checkpoint directory created: ./model\n",
                  "saving model version 0.0\n"
                ]
              },
              {
                "name": "stdout",
                "output_type": "stream",
                "text": [
                  "checkpoint directory created: ./model\n",
                  "saving model version 0.0\n"
                ]
              },
              {
                "name": "stdout",
                "output_type": "stream",
                "text": [
                  "checkpoint directory created: ./model\n",
                  "saving model version 0.0\n"
                ]
              },
              {
                "name": "stdout",
                "output_type": "stream",
                "text": [
                  "checkpoint directory created: ./model\n",
                  "saving model version 0.0\n"
                ]
              },
              {
                "name": "stdout",
                "output_type": "stream",
                "text": [
                  "checkpoint directory created: ./model\n",
                  "saving model version 0.0\n"
                ]
              },
              {
                "name": "stdout",
                "output_type": "stream",
                "text": [
                  "checkpoint directory created: ./model\n",
                  "saving model version 0.0\n"
                ]
              },
              {
                "name": "stdout",
                "output_type": "stream",
                "text": [
                  "checkpoint directory created: ./model\n",
                  "saving model version 0.0\n"
                ]
              },
              {
                "name": "stdout",
                "output_type": "stream",
                "text": [
                  "checkpoint directory created: ./model\n",
                  "saving model version 0.0\n"
                ]
              },
              {
                "name": "stdout",
                "output_type": "stream",
                "text": [
                  "checkpoint directory created: ./model\n",
                  "saving model version 0.0\n"
                ]
              },
              {
                "name": "stdout",
                "output_type": "stream",
                "text": [
                  "checkpoint directory created: ./model\n",
                  "saving model version 0.0\n"
                ]
              },
              {
                "name": "stdout",
                "output_type": "stream",
                "text": [
                  "checkpoint directory created: ./model\n",
                  "saving model version 0.0\n"
                ]
              },
              {
                "name": "stdout",
                "output_type": "stream",
                "text": [
                  "checkpoint directory created: ./model\n",
                  "saving model version 0.0\n"
                ]
              },
              {
                "name": "stdout",
                "output_type": "stream",
                "text": [
                  "checkpoint directory created: ./model\n",
                  "saving model version 0.0\n"
                ]
              },
              {
                "name": "stdout",
                "output_type": "stream",
                "text": [
                  "checkpoint directory created: ./model\n",
                  "saving model version 0.0\n"
                ]
              },
              {
                "name": "stdout",
                "output_type": "stream",
                "text": [
                  "checkpoint directory created: ./model\n",
                  "saving model version 0.0\n"
                ]
              },
              {
                "name": "stdout",
                "output_type": "stream",
                "text": [
                  "checkpoint directory created: ./model\n",
                  "saving model version 0.0\n"
                ]
              },
              {
                "name": "stdout",
                "output_type": "stream",
                "text": [
                  "checkpoint directory created: ./model\n",
                  "saving model version 0.0\n"
                ]
              },
              {
                "name": "stdout",
                "output_type": "stream",
                "text": [
                  "checkpoint directory created: ./model\n",
                  "saving model version 0.0\n"
                ]
              },
              {
                "name": "stdout",
                "output_type": "stream",
                "text": [
                  "checkpoint directory created: ./model\n",
                  "saving model version 0.0\n"
                ]
              },
              {
                "name": "stdout",
                "output_type": "stream",
                "text": [
                  "checkpoint directory created: ./model\n",
                  "saving model version 0.0\n"
                ]
              },
              {
                "name": "stdout",
                "output_type": "stream",
                "text": [
                  "checkpoint directory created: ./model\n",
                  "saving model version 0.0\n"
                ]
              },
              {
                "name": "stdout",
                "output_type": "stream",
                "text": [
                  "checkpoint directory created: ./model\n",
                  "saving model version 0.0\n"
                ]
              },
              {
                "name": "stdout",
                "output_type": "stream",
                "text": [
                  "checkpoint directory created: ./model\n",
                  "saving model version 0.0\n"
                ]
              },
              {
                "name": "stdout",
                "output_type": "stream",
                "text": [
                  "checkpoint directory created: ./model\n",
                  "saving model version 0.0\n"
                ]
              },
              {
                "name": "stdout",
                "output_type": "stream",
                "text": [
                  "checkpoint directory created: ./model\n",
                  "saving model version 0.0\n"
                ]
              },
              {
                "name": "stdout",
                "output_type": "stream",
                "text": [
                  "checkpoint directory created: ./model\n",
                  "saving model version 0.0\n"
                ]
              },
              {
                "name": "stdout",
                "output_type": "stream",
                "text": [
                  "checkpoint directory created: ./model\n",
                  "saving model version 0.0\n"
                ]
              },
              {
                "name": "stdout",
                "output_type": "stream",
                "text": [
                  "checkpoint directory created: ./model\n",
                  "saving model version 0.0\n"
                ]
              },
              {
                "name": "stdout",
                "output_type": "stream",
                "text": [
                  "checkpoint directory created: ./model\n",
                  "saving model version 0.0\n"
                ]
              },
              {
                "name": "stdout",
                "output_type": "stream",
                "text": [
                  "checkpoint directory created: ./model\n",
                  "saving model version 0.0\n"
                ]
              },
              {
                "name": "stdout",
                "output_type": "stream",
                "text": [
                  "checkpoint directory created: ./model\n",
                  "saving model version 0.0\n"
                ]
              },
              {
                "name": "stdout",
                "output_type": "stream",
                "text": [
                  "checkpoint directory created: ./model\n",
                  "saving model version 0.0\n"
                ]
              },
              {
                "name": "stdout",
                "output_type": "stream",
                "text": [
                  "checkpoint directory created: ./model\n",
                  "saving model version 0.0\n"
                ]
              },
              {
                "name": "stdout",
                "output_type": "stream",
                "text": [
                  "checkpoint directory created: ./model\n",
                  "saving model version 0.0\n"
                ]
              },
              {
                "name": "stdout",
                "output_type": "stream",
                "text": [
                  "checkpoint directory created: ./model\n",
                  "saving model version 0.0\n"
                ]
              },
              {
                "name": "stdout",
                "output_type": "stream",
                "text": [
                  "checkpoint directory created: ./model\n",
                  "saving model version 0.0\n"
                ]
              },
              {
                "name": "stdout",
                "output_type": "stream",
                "text": [
                  "checkpoint directory created: ./model\n",
                  "saving model version 0.0\n"
                ]
              },
              {
                "name": "stdout",
                "output_type": "stream",
                "text": [
                  "checkpoint directory created: ./model\n",
                  "saving model version 0.0\n"
                ]
              },
              {
                "name": "stdout",
                "output_type": "stream",
                "text": [
                  "checkpoint directory created: ./model\n",
                  "saving model version 0.0\n"
                ]
              },
              {
                "name": "stdout",
                "output_type": "stream",
                "text": [
                  "checkpoint directory created: ./model\n",
                  "saving model version 0.0\n"
                ]
              },
              {
                "name": "stdout",
                "output_type": "stream",
                "text": [
                  "checkpoint directory created: ./model\n",
                  "saving model version 0.0\n"
                ]
              },
              {
                "name": "stdout",
                "output_type": "stream",
                "text": [
                  "checkpoint directory created: ./model\n",
                  "saving model version 0.0\n"
                ]
              },
              {
                "name": "stdout",
                "output_type": "stream",
                "text": [
                  "checkpoint directory created: ./model\n",
                  "saving model version 0.0\n"
                ]
              },
              {
                "name": "stdout",
                "output_type": "stream",
                "text": [
                  "checkpoint directory created: ./model\n",
                  "saving model version 0.0\n"
                ]
              },
              {
                "name": "stdout",
                "output_type": "stream",
                "text": [
                  "checkpoint directory created: ./model\n",
                  "saving model version 0.0\n"
                ]
              },
              {
                "name": "stdout",
                "output_type": "stream",
                "text": [
                  "checkpoint directory created: ./model\n",
                  "saving model version 0.0\n"
                ]
              },
              {
                "name": "stdout",
                "output_type": "stream",
                "text": [
                  "checkpoint directory created: ./model\n",
                  "saving model version 0.0\n"
                ]
              },
              {
                "name": "stdout",
                "output_type": "stream",
                "text": [
                  "checkpoint directory created: ./model\n",
                  "saving model version 0.0\n"
                ]
              },
              {
                "name": "stdout",
                "output_type": "stream",
                "text": [
                  "checkpoint directory created: ./model\n",
                  "saving model version 0.0\n"
                ]
              },
              {
                "name": "stdout",
                "output_type": "stream",
                "text": [
                  "checkpoint directory created: ./model\n",
                  "saving model version 0.0\n"
                ]
              },
              {
                "name": "stdout",
                "output_type": "stream",
                "text": [
                  "checkpoint directory created: ./model\n",
                  "saving model version 0.0\n"
                ]
              },
              {
                "name": "stdout",
                "output_type": "stream",
                "text": [
                  "checkpoint directory created: ./model\n",
                  "saving model version 0.0\n"
                ]
              },
              {
                "name": "stdout",
                "output_type": "stream",
                "text": [
                  "checkpoint directory created: ./model\n",
                  "saving model version 0.0\n"
                ]
              },
              {
                "name": "stdout",
                "output_type": "stream",
                "text": [
                  "checkpoint directory created: ./model\n",
                  "saving model version 0.0\n"
                ]
              },
              {
                "name": "stdout",
                "output_type": "stream",
                "text": [
                  "checkpoint directory created: ./model\n",
                  "saving model version 0.0\n"
                ]
              },
              {
                "name": "stdout",
                "output_type": "stream",
                "text": [
                  "checkpoint directory created: ./model\n",
                  "saving model version 0.0\n"
                ]
              },
              {
                "name": "stdout",
                "output_type": "stream",
                "text": [
                  "checkpoint directory created: ./model\n",
                  "saving model version 0.0\n"
                ]
              },
              {
                "name": "stdout",
                "output_type": "stream",
                "text": [
                  "checkpoint directory created: ./model\n",
                  "saving model version 0.0\n"
                ]
              },
              {
                "name": "stdout",
                "output_type": "stream",
                "text": [
                  "checkpoint directory created: ./model\n",
                  "saving model version 0.0\n"
                ]
              },
              {
                "name": "stdout",
                "output_type": "stream",
                "text": [
                  "checkpoint directory created: ./model\n",
                  "saving model version 0.0\n"
                ]
              },
              {
                "name": "stdout",
                "output_type": "stream",
                "text": [
                  "checkpoint directory created: ./model\n",
                  "saving model version 0.0\n"
                ]
              },
              {
                "name": "stdout",
                "output_type": "stream",
                "text": [
                  "checkpoint directory created: ./model\n",
                  "saving model version 0.0\n"
                ]
              },
              {
                "name": "stdout",
                "output_type": "stream",
                "text": [
                  "checkpoint directory created: ./model\n",
                  "saving model version 0.0\n"
                ]
              },
              {
                "name": "stdout",
                "output_type": "stream",
                "text": [
                  "checkpoint directory created: ./model\n",
                  "saving model version 0.0\n"
                ]
              },
              {
                "name": "stdout",
                "output_type": "stream",
                "text": [
                  "checkpoint directory created: ./model\n",
                  "saving model version 0.0\n"
                ]
              },
              {
                "name": "stdout",
                "output_type": "stream",
                "text": [
                  "checkpoint directory created: ./model\n",
                  "saving model version 0.0\n"
                ]
              },
              {
                "name": "stdout",
                "output_type": "stream",
                "text": [
                  "checkpoint directory created: ./model\n",
                  "saving model version 0.0\n"
                ]
              },
              {
                "name": "stdout",
                "output_type": "stream",
                "text": [
                  "checkpoint directory created: ./model\n",
                  "saving model version 0.0\n"
                ]
              },
              {
                "name": "stdout",
                "output_type": "stream",
                "text": [
                  "checkpoint directory created: ./model\n",
                  "saving model version 0.0\n"
                ]
              },
              {
                "name": "stdout",
                "output_type": "stream",
                "text": [
                  "checkpoint directory created: ./model\n",
                  "saving model version 0.0\n"
                ]
              },
              {
                "name": "stdout",
                "output_type": "stream",
                "text": [
                  "checkpoint directory created: ./model\n",
                  "saving model version 0.0\n"
                ]
              },
              {
                "name": "stdout",
                "output_type": "stream",
                "text": [
                  "checkpoint directory created: ./model\n",
                  "saving model version 0.0\n"
                ]
              },
              {
                "name": "stdout",
                "output_type": "stream",
                "text": [
                  "checkpoint directory created: ./model\n",
                  "saving model version 0.0\n"
                ]
              },
              {
                "name": "stdout",
                "output_type": "stream",
                "text": [
                  "checkpoint directory created: ./model\n",
                  "saving model version 0.0\n"
                ]
              },
              {
                "name": "stdout",
                "output_type": "stream",
                "text": [
                  "checkpoint directory created: ./model\n",
                  "saving model version 0.0\n"
                ]
              },
              {
                "name": "stdout",
                "output_type": "stream",
                "text": [
                  "checkpoint directory created: ./model\n",
                  "saving model version 0.0\n"
                ]
              },
              {
                "name": "stdout",
                "output_type": "stream",
                "text": [
                  "checkpoint directory created: ./model\n",
                  "saving model version 0.0\n"
                ]
              },
              {
                "name": "stdout",
                "output_type": "stream",
                "text": [
                  "checkpoint directory created: ./model\n",
                  "saving model version 0.0\n"
                ]
              },
              {
                "name": "stdout",
                "output_type": "stream",
                "text": [
                  "checkpoint directory created: ./model\n",
                  "saving model version 0.0\n"
                ]
              },
              {
                "name": "stdout",
                "output_type": "stream",
                "text": [
                  "checkpoint directory created: ./model\n",
                  "saving model version 0.0\n"
                ]
              },
              {
                "name": "stdout",
                "output_type": "stream",
                "text": [
                  "checkpoint directory created: ./model\n",
                  "saving model version 0.0\n"
                ]
              },
              {
                "name": "stdout",
                "output_type": "stream",
                "text": [
                  "checkpoint directory created: ./model\n",
                  "saving model version 0.0\n"
                ]
              },
              {
                "name": "stdout",
                "output_type": "stream",
                "text": [
                  "checkpoint directory created: ./model\n",
                  "saving model version 0.0\n"
                ]
              },
              {
                "name": "stdout",
                "output_type": "stream",
                "text": [
                  "checkpoint directory created: ./model\n",
                  "saving model version 0.0\n"
                ]
              },
              {
                "name": "stdout",
                "output_type": "stream",
                "text": [
                  "checkpoint directory created: ./model\n",
                  "saving model version 0.0\n"
                ]
              },
              {
                "name": "stdout",
                "output_type": "stream",
                "text": [
                  "checkpoint directory created: ./model\n",
                  "saving model version 0.0\n"
                ]
              },
              {
                "name": "stdout",
                "output_type": "stream",
                "text": [
                  "checkpoint directory created: ./model\n",
                  "saving model version 0.0\n"
                ]
              },
              {
                "name": "stdout",
                "output_type": "stream",
                "text": [
                  "checkpoint directory created: ./model\n",
                  "saving model version 0.0\n"
                ]
              },
              {
                "name": "stdout",
                "output_type": "stream",
                "text": [
                  "checkpoint directory created: ./model\n",
                  "saving model version 0.0\n"
                ]
              },
              {
                "name": "stdout",
                "output_type": "stream",
                "text": [
                  "checkpoint directory created: ./model\n",
                  "saving model version 0.0\n"
                ]
              },
              {
                "name": "stdout",
                "output_type": "stream",
                "text": [
                  "checkpoint directory created: ./model\n",
                  "saving model version 0.0\n"
                ]
              },
              {
                "name": "stdout",
                "output_type": "stream",
                "text": [
                  "checkpoint directory created: ./model\n",
                  "saving model version 0.0\n"
                ]
              },
              {
                "name": "stdout",
                "output_type": "stream",
                "text": [
                  "checkpoint directory created: ./model\n",
                  "saving model version 0.0\n"
                ]
              },
              {
                "name": "stdout",
                "output_type": "stream",
                "text": [
                  "checkpoint directory created: ./model\n",
                  "saving model version 0.0\n"
                ]
              },
              {
                "name": "stdout",
                "output_type": "stream",
                "text": [
                  "checkpoint directory created: ./model\n",
                  "saving model version 0.0\n"
                ]
              },
              {
                "name": "stdout",
                "output_type": "stream",
                "text": [
                  "checkpoint directory created: ./model\n",
                  "saving model version 0.0\n"
                ]
              },
              {
                "name": "stdout",
                "output_type": "stream",
                "text": [
                  "checkpoint directory created: ./model\n",
                  "saving model version 0.0\n"
                ]
              },
              {
                "name": "stdout",
                "output_type": "stream",
                "text": [
                  "checkpoint directory created: ./model\n",
                  "saving model version 0.0\n"
                ]
              },
              {
                "name": "stdout",
                "output_type": "stream",
                "text": [
                  "checkpoint directory created: ./model\n",
                  "saving model version 0.0\n"
                ]
              },
              {
                "name": "stdout",
                "output_type": "stream",
                "text": [
                  "checkpoint directory created: ./model\n",
                  "saving model version 0.0\n"
                ]
              },
              {
                "name": "stdout",
                "output_type": "stream",
                "text": [
                  "checkpoint directory created: ./model\n",
                  "saving model version 0.0\n"
                ]
              },
              {
                "name": "stdout",
                "output_type": "stream",
                "text": [
                  "checkpoint directory created: ./model\n",
                  "saving model version 0.0\n"
                ]
              },
              {
                "name": "stdout",
                "output_type": "stream",
                "text": [
                  "checkpoint directory created: ./model\n",
                  "saving model version 0.0\n"
                ]
              },
              {
                "name": "stdout",
                "output_type": "stream",
                "text": [
                  "checkpoint directory created: ./model\n",
                  "saving model version 0.0\n"
                ]
              },
              {
                "name": "stdout",
                "output_type": "stream",
                "text": [
                  "checkpoint directory created: ./model\n",
                  "saving model version 0.0\n"
                ]
              },
              {
                "name": "stdout",
                "output_type": "stream",
                "text": [
                  "checkpoint directory created: ./model\n",
                  "saving model version 0.0\n"
                ]
              },
              {
                "name": "stdout",
                "output_type": "stream",
                "text": [
                  "checkpoint directory created: ./model\n",
                  "saving model version 0.0\n"
                ]
              },
              {
                "name": "stdout",
                "output_type": "stream",
                "text": [
                  "checkpoint directory created: ./model\n",
                  "saving model version 0.0\n"
                ]
              },
              {
                "name": "stdout",
                "output_type": "stream",
                "text": [
                  "checkpoint directory created: ./model\n",
                  "saving model version 0.0\n"
                ]
              },
              {
                "name": "stdout",
                "output_type": "stream",
                "text": [
                  "checkpoint directory created: ./model\n",
                  "saving model version 0.0\n"
                ]
              },
              {
                "name": "stdout",
                "output_type": "stream",
                "text": [
                  "checkpoint directory created: ./model\n",
                  "saving model version 0.0\n"
                ]
              },
              {
                "name": "stdout",
                "output_type": "stream",
                "text": [
                  "checkpoint directory created: ./model\n",
                  "saving model version 0.0\n"
                ]
              },
              {
                "name": "stdout",
                "output_type": "stream",
                "text": [
                  "checkpoint directory created: ./model\n",
                  "saving model version 0.0\n"
                ]
              },
              {
                "name": "stdout",
                "output_type": "stream",
                "text": [
                  "checkpoint directory created: ./model\n",
                  "saving model version 0.0\n"
                ]
              },
              {
                "name": "stdout",
                "output_type": "stream",
                "text": [
                  "checkpoint directory created: ./model\n",
                  "saving model version 0.0\n"
                ]
              },
              {
                "name": "stdout",
                "output_type": "stream",
                "text": [
                  "checkpoint directory created: ./model\n",
                  "saving model version 0.0\n",
                  "[Param-match] PyKAN  hidden=43  grid=3\n"
                ]
              },
              {
                "name": "stdout",
                "output_type": "stream",
                "text": [
                  "[Param-match] FastKAN hidden=85  grids=5\n",
                  "\n",
                  "---- MLP head ----\n"
                ]
              },
              {
                "name": "stdout",
                "output_type": "stream",
                "text": [
                  "💥 Exception during run_experiment:\n",
                  "\n",
                  "===== Label fraction 2.0% =====\n",
                  "\n",
                  "=====  SEED 42  =====\n"
                ]
              },
              {
                "name": "stderr",
                "output_type": "stream",
                "text": [
                  "Traceback (most recent call last):\n",
                  "  File \"/tmp/ipython-input-431229810.py\", line 112, in _run\n",
                  "    df, logits_targets_dict = run_experiment(\n",
                  "                              ^^^^^^^^^^^^^^^\n",
                  "  File \"/tmp/ipython-input-53751728.py\", line 170, in run_experiment\n",
                  "    base_res, logits_val, y_val, logits_test, y_test = train_head(\n",
                  "                                                       ^^^^^^^^^^^\n",
                  "  File \"/tmp/ipython-input-1127230522.py\", line 105, in train_head\n",
                  "    with autocast(device_str, enabled=(device_str == \"cuda\")):\n",
                  "         ^^^^^^^^^^^^^^^^^^^^^^^^^^^^^^^^^^^^^^^^^^^^^^^^^^^^\n",
                  "  File \"/usr/local/lib/python3.11/dist-packages/typing_extensions.py\", line 2956, in wrapper\n",
                  "    return arg(*args, **kwargs)\n",
                  "           ^^^^^^^^^^^^^^^^^^^^\n",
                  "TypeError: autocast.__init__() got multiple values for argument 'enabled'\n"
                ]
              },
              {
                "name": "stdout",
                "output_type": "stream",
                "text": [
                  "checkpoint directory created: ./model\n",
                  "saving model version 0.0\n"
                ]
              },
              {
                "name": "stdout",
                "output_type": "stream",
                "text": [
                  "checkpoint directory created: ./model\n",
                  "saving model version 0.0\n"
                ]
              },
              {
                "name": "stdout",
                "output_type": "stream",
                "text": [
                  "checkpoint directory created: ./model\n",
                  "saving model version 0.0\n"
                ]
              },
              {
                "name": "stdout",
                "output_type": "stream",
                "text": [
                  "checkpoint directory created: ./model\n",
                  "saving model version 0.0\n"
                ]
              },
              {
                "name": "stdout",
                "output_type": "stream",
                "text": [
                  "checkpoint directory created: ./model\n",
                  "saving model version 0.0\n"
                ]
              },
              {
                "name": "stdout",
                "output_type": "stream",
                "text": [
                  "checkpoint directory created: ./model\n",
                  "saving model version 0.0\n"
                ]
              },
              {
                "name": "stdout",
                "output_type": "stream",
                "text": [
                  "checkpoint directory created: ./model\n",
                  "saving model version 0.0\n"
                ]
              },
              {
                "name": "stdout",
                "output_type": "stream",
                "text": [
                  "checkpoint directory created: ./model\n",
                  "saving model version 0.0\n"
                ]
              },
              {
                "name": "stdout",
                "output_type": "stream",
                "text": [
                  "checkpoint directory created: ./model\n",
                  "saving model version 0.0\n"
                ]
              },
              {
                "name": "stdout",
                "output_type": "stream",
                "text": [
                  "checkpoint directory created: ./model\n",
                  "saving model version 0.0\n"
                ]
              },
              {
                "name": "stdout",
                "output_type": "stream",
                "text": [
                  "checkpoint directory created: ./model\n",
                  "saving model version 0.0\n"
                ]
              }
            ]
          }
        },
        "3d268536b14942018aab0e6d1244f42b": {
          "model_module": "@jupyter-widgets/controls",
          "model_module_version": "1.5.0",
          "model_name": "TextModel",
          "state": {
            "_dom_classes": [],
            "_model_module": "@jupyter-widgets/controls",
            "_model_module_version": "1.5.0",
            "_model_name": "TextModel",
            "_view_count": null,
            "_view_module": "@jupyter-widgets/controls",
            "_view_module_version": "1.5.0",
            "_view_name": "TextView",
            "continuous_update": true,
            "description": "Google Drive Path",
            "description_tooltip": null,
            "disabled": false,
            "layout": "IPY_MODEL_3c642a08f56e443fbb0e4fae93ea9ee4",
            "placeholder": "​",
            "style": "IPY_MODEL_70bd86aaf0be4f18ab9516e225079e94",
            "value": "MyDrive/Colab_KAN_Runs"
          }
        },
        "3de58509899f4e07b015a2fd53b87ebe": {
          "model_module": "@jupyter-widgets/controls",
          "model_module_version": "1.5.0",
          "model_name": "HBoxModel",
          "state": {
            "_dom_classes": [],
            "_model_module": "@jupyter-widgets/controls",
            "_model_module_version": "1.5.0",
            "_model_name": "HBoxModel",
            "_view_count": null,
            "_view_module": "@jupyter-widgets/controls",
            "_view_module_version": "1.5.0",
            "_view_name": "HBoxView",
            "box_style": "",
            "children": [
              "IPY_MODEL_311e6c947e2f450e9519cf90b2763dcf",
              "IPY_MODEL_a2adba0677214420a181d8cb5c39d0b3"
            ],
            "layout": "IPY_MODEL_dc9cce39f8354d61a11a84e509c10b92"
          }
        },
        "47bb64b829164435995492f49a2d60bf": {
          "model_module": "@jupyter-widgets/base",
          "model_module_version": "1.2.0",
          "model_name": "LayoutModel",
          "state": {
            "_model_module": "@jupyter-widgets/base",
            "_model_module_version": "1.2.0",
            "_model_name": "LayoutModel",
            "_view_count": null,
            "_view_module": "@jupyter-widgets/base",
            "_view_module_version": "1.2.0",
            "_view_name": "LayoutView",
            "align_content": null,
            "align_items": null,
            "align_self": null,
            "border": null,
            "bottom": null,
            "display": null,
            "flex": null,
            "flex_flow": null,
            "grid_area": null,
            "grid_auto_columns": null,
            "grid_auto_flow": null,
            "grid_auto_rows": null,
            "grid_column": null,
            "grid_gap": null,
            "grid_row": null,
            "grid_template_areas": null,
            "grid_template_columns": null,
            "grid_template_rows": null,
            "height": null,
            "justify_content": null,
            "justify_items": null,
            "left": null,
            "margin": null,
            "max_height": null,
            "max_width": null,
            "min_height": null,
            "min_width": null,
            "object_fit": null,
            "object_position": null,
            "order": null,
            "overflow": null,
            "overflow_x": null,
            "overflow_y": null,
            "padding": null,
            "right": null,
            "top": null,
            "visibility": null,
            "width": null
          }
        },
        "4a2dee57bc504e48b233213007c6e30d": {
          "model_module": "@jupyter-widgets/controls",
          "model_module_version": "1.5.0",
          "model_name": "FloatSliderModel",
          "state": {
            "_dom_classes": [],
            "_model_module": "@jupyter-widgets/controls",
            "_model_module_version": "1.5.0",
            "_model_name": "FloatSliderModel",
            "_view_count": null,
            "_view_module": "@jupyter-widgets/controls",
            "_view_module_version": "1.5.0",
            "_view_name": "FloatSliderView",
            "continuous_update": true,
            "description": "Label Smooth",
            "description_tooltip": null,
            "disabled": false,
            "layout": "IPY_MODEL_a15d27b80acd491f9b1fdcebfe19d15c",
            "max": 0.2,
            "min": 0,
            "orientation": "horizontal",
            "readout": true,
            "readout_format": ".2f",
            "step": 0.01,
            "style": "IPY_MODEL_7d7ce1975ed843cfaeb0992d9f48c6c0",
            "value": 0.1
          }
        },
        "51c53951bdbf45bab9ddb0ee6b4d23ec": {
          "model_module": "@jupyter-widgets/base",
          "model_module_version": "1.2.0",
          "model_name": "LayoutModel",
          "state": {
            "_model_module": "@jupyter-widgets/base",
            "_model_module_version": "1.2.0",
            "_model_name": "LayoutModel",
            "_view_count": null,
            "_view_module": "@jupyter-widgets/base",
            "_view_module_version": "1.2.0",
            "_view_name": "LayoutView",
            "align_content": null,
            "align_items": null,
            "align_self": null,
            "border": null,
            "bottom": null,
            "display": null,
            "flex": null,
            "flex_flow": null,
            "grid_area": null,
            "grid_auto_columns": null,
            "grid_auto_flow": null,
            "grid_auto_rows": null,
            "grid_column": null,
            "grid_gap": null,
            "grid_row": null,
            "grid_template_areas": null,
            "grid_template_columns": null,
            "grid_template_rows": null,
            "height": null,
            "justify_content": null,
            "justify_items": null,
            "left": null,
            "margin": null,
            "max_height": null,
            "max_width": null,
            "min_height": null,
            "min_width": null,
            "object_fit": null,
            "object_position": null,
            "order": null,
            "overflow": null,
            "overflow_x": null,
            "overflow_y": null,
            "padding": null,
            "right": null,
            "top": null,
            "visibility": null,
            "width": null
          }
        },
        "54cecadd55584dd9bae1a636707a8358": {
          "model_module": "@jupyter-widgets/base",
          "model_module_version": "1.2.0",
          "model_name": "LayoutModel",
          "state": {
            "_model_module": "@jupyter-widgets/base",
            "_model_module_version": "1.2.0",
            "_model_name": "LayoutModel",
            "_view_count": null,
            "_view_module": "@jupyter-widgets/base",
            "_view_module_version": "1.2.0",
            "_view_name": "LayoutView",
            "align_content": null,
            "align_items": null,
            "align_self": null,
            "border": null,
            "bottom": null,
            "display": null,
            "flex": null,
            "flex_flow": null,
            "grid_area": null,
            "grid_auto_columns": null,
            "grid_auto_flow": null,
            "grid_auto_rows": null,
            "grid_column": null,
            "grid_gap": null,
            "grid_row": null,
            "grid_template_areas": null,
            "grid_template_columns": null,
            "grid_template_rows": null,
            "height": null,
            "justify_content": null,
            "justify_items": null,
            "left": null,
            "margin": null,
            "max_height": null,
            "max_width": null,
            "min_height": null,
            "min_width": null,
            "object_fit": null,
            "object_position": null,
            "order": null,
            "overflow": null,
            "overflow_x": null,
            "overflow_y": null,
            "padding": null,
            "right": null,
            "top": null,
            "visibility": null,
            "width": null
          }
        },
        "5d7e985503cc4313bed892fbad71f489": {
          "model_module": "@jupyter-widgets/controls",
          "model_module_version": "1.5.0",
          "model_name": "SliderStyleModel",
          "state": {
            "_model_module": "@jupyter-widgets/controls",
            "_model_module_version": "1.5.0",
            "_model_name": "SliderStyleModel",
            "_view_count": null,
            "_view_module": "@jupyter-widgets/base",
            "_view_module_version": "1.2.0",
            "_view_name": "StyleView",
            "description_width": "",
            "handle_color": null
          }
        },
        "5e4f6e378f344f7cbb427a551d0b4fc5": {
          "model_module": "@jupyter-widgets/controls",
          "model_module_version": "1.5.0",
          "model_name": "SelectMultipleModel",
          "state": {
            "_dom_classes": [],
            "_model_module": "@jupyter-widgets/controls",
            "_model_module_version": "1.5.0",
            "_model_name": "SelectMultipleModel",
            "_options_labels": [
              "mlp",
              "pykan",
              "fastkan"
            ],
            "_view_count": null,
            "_view_module": "@jupyter-widgets/controls",
            "_view_module_version": "1.5.0",
            "_view_name": "SelectMultipleView",
            "description": "Models",
            "description_tooltip": null,
            "disabled": false,
            "index": [
              0,
              1,
              2
            ],
            "layout": "IPY_MODEL_07d8781dca0644dd94a29a7983bd99ff",
            "rows": 5,
            "style": "IPY_MODEL_b2fdc191e9b648d893f8790ce0f246ba"
          }
        },
        "64c7ce3ccf1441a7b1969aed4fc71363": {
          "model_module": "@jupyter-widgets/base",
          "model_module_version": "1.2.0",
          "model_name": "LayoutModel",
          "state": {
            "_model_module": "@jupyter-widgets/base",
            "_model_module_version": "1.2.0",
            "_model_name": "LayoutModel",
            "_view_count": null,
            "_view_module": "@jupyter-widgets/base",
            "_view_module_version": "1.2.0",
            "_view_name": "LayoutView",
            "align_content": null,
            "align_items": null,
            "align_self": null,
            "border": null,
            "bottom": null,
            "display": null,
            "flex": null,
            "flex_flow": null,
            "grid_area": null,
            "grid_auto_columns": null,
            "grid_auto_flow": null,
            "grid_auto_rows": null,
            "grid_column": null,
            "grid_gap": null,
            "grid_row": null,
            "grid_template_areas": null,
            "grid_template_columns": null,
            "grid_template_rows": null,
            "height": null,
            "justify_content": null,
            "justify_items": null,
            "left": null,
            "margin": null,
            "max_height": null,
            "max_width": null,
            "min_height": null,
            "min_width": null,
            "object_fit": null,
            "object_position": null,
            "order": null,
            "overflow": null,
            "overflow_x": null,
            "overflow_y": null,
            "padding": null,
            "right": null,
            "top": null,
            "visibility": null,
            "width": null
          }
        },
        "64fc5b6b13dc47cea4a29d473d86b47a": {
          "model_module": "@jupyter-widgets/controls",
          "model_module_version": "1.5.0",
          "model_name": "IntSliderModel",
          "state": {
            "_dom_classes": [],
            "_model_module": "@jupyter-widgets/controls",
            "_model_module_version": "1.5.0",
            "_model_name": "IntSliderModel",
            "_view_count": null,
            "_view_module": "@jupyter-widgets/controls",
            "_view_module_version": "1.5.0",
            "_view_name": "IntSliderView",
            "continuous_update": true,
            "description": "ECE bins",
            "description_tooltip": null,
            "disabled": false,
            "layout": "IPY_MODEL_974757e831224c13b4e06325d4c57561",
            "max": 40,
            "min": 5,
            "orientation": "horizontal",
            "readout": true,
            "readout_format": "d",
            "step": 1,
            "style": "IPY_MODEL_5d7e985503cc4313bed892fbad71f489",
            "value": 10
          }
        },
        "6a92d6f99f9042c99ec7235d1ac55b02": {
          "model_module": "@jupyter-widgets/base",
          "model_module_version": "1.2.0",
          "model_name": "LayoutModel",
          "state": {
            "_model_module": "@jupyter-widgets/base",
            "_model_module_version": "1.2.0",
            "_model_name": "LayoutModel",
            "_view_count": null,
            "_view_module": "@jupyter-widgets/base",
            "_view_module_version": "1.2.0",
            "_view_name": "LayoutView",
            "align_content": null,
            "align_items": null,
            "align_self": null,
            "border": null,
            "bottom": null,
            "display": null,
            "flex": null,
            "flex_flow": null,
            "grid_area": null,
            "grid_auto_columns": null,
            "grid_auto_flow": null,
            "grid_auto_rows": null,
            "grid_column": null,
            "grid_gap": null,
            "grid_row": null,
            "grid_template_areas": null,
            "grid_template_columns": null,
            "grid_template_rows": null,
            "height": null,
            "justify_content": null,
            "justify_items": null,
            "left": null,
            "margin": null,
            "max_height": null,
            "max_width": null,
            "min_height": null,
            "min_width": null,
            "object_fit": null,
            "object_position": null,
            "order": null,
            "overflow": null,
            "overflow_x": null,
            "overflow_y": null,
            "padding": null,
            "right": null,
            "top": null,
            "visibility": null,
            "width": null
          }
        },
        "6d6a854e7cc34daab67bb54c67519d8b": {
          "model_module": "@jupyter-widgets/base",
          "model_module_version": "1.2.0",
          "model_name": "LayoutModel",
          "state": {
            "_model_module": "@jupyter-widgets/base",
            "_model_module_version": "1.2.0",
            "_model_name": "LayoutModel",
            "_view_count": null,
            "_view_module": "@jupyter-widgets/base",
            "_view_module_version": "1.2.0",
            "_view_name": "LayoutView",
            "align_content": null,
            "align_items": null,
            "align_self": null,
            "border": null,
            "bottom": null,
            "display": null,
            "flex": null,
            "flex_flow": null,
            "grid_area": null,
            "grid_auto_columns": null,
            "grid_auto_flow": null,
            "grid_auto_rows": null,
            "grid_column": null,
            "grid_gap": null,
            "grid_row": null,
            "grid_template_areas": null,
            "grid_template_columns": null,
            "grid_template_rows": null,
            "height": null,
            "justify_content": null,
            "justify_items": null,
            "left": null,
            "margin": null,
            "max_height": null,
            "max_width": null,
            "min_height": null,
            "min_width": null,
            "object_fit": null,
            "object_position": null,
            "order": null,
            "overflow": null,
            "overflow_x": null,
            "overflow_y": null,
            "padding": null,
            "right": null,
            "top": null,
            "visibility": null,
            "width": null
          }
        },
        "6fed0611fb9d41c7be38d5721cb7c35c": {
          "model_module": "@jupyter-widgets/controls",
          "model_module_version": "1.5.0",
          "model_name": "ButtonStyleModel",
          "state": {
            "_model_module": "@jupyter-widgets/controls",
            "_model_module_version": "1.5.0",
            "_model_name": "ButtonStyleModel",
            "_view_count": null,
            "_view_module": "@jupyter-widgets/base",
            "_view_module_version": "1.2.0",
            "_view_name": "StyleView",
            "button_color": null,
            "font_weight": ""
          }
        },
        "70bd86aaf0be4f18ab9516e225079e94": {
          "model_module": "@jupyter-widgets/controls",
          "model_module_version": "1.5.0",
          "model_name": "DescriptionStyleModel",
          "state": {
            "_model_module": "@jupyter-widgets/controls",
            "_model_module_version": "1.5.0",
            "_model_name": "DescriptionStyleModel",
            "_view_count": null,
            "_view_module": "@jupyter-widgets/base",
            "_view_module_version": "1.2.0",
            "_view_name": "StyleView",
            "description_width": "initial"
          }
        },
        "70c67f0bce0d46f7b9d91abefa23e495": {
          "model_module": "@jupyter-widgets/controls",
          "model_module_version": "1.5.0",
          "model_name": "FloatLogSliderModel",
          "state": {
            "_dom_classes": [],
            "_model_module": "@jupyter-widgets/controls",
            "_model_module_version": "1.5.0",
            "_model_name": "FloatLogSliderModel",
            "_view_count": null,
            "_view_module": "@jupyter-widgets/controls",
            "_view_module_version": "1.5.0",
            "_view_name": "FloatLogSliderView",
            "base": 10,
            "continuous_update": true,
            "description": "LR",
            "description_tooltip": null,
            "disabled": false,
            "layout": "IPY_MODEL_6d6a854e7cc34daab67bb54c67519d8b",
            "max": -1,
            "min": -5,
            "orientation": "horizontal",
            "readout": true,
            "readout_format": ".3g",
            "step": 0.2,
            "style": "IPY_MODEL_9d9bb89b66b9451592909e1203cdf6a4",
            "value": 0.003
          }
        },
        "735458cb5f95449b8239fe018195f6b4": {
          "model_module": "@jupyter-widgets/controls",
          "model_module_version": "1.5.0",
          "model_name": "SliderStyleModel",
          "state": {
            "_model_module": "@jupyter-widgets/controls",
            "_model_module_version": "1.5.0",
            "_model_name": "SliderStyleModel",
            "_view_count": null,
            "_view_module": "@jupyter-widgets/base",
            "_view_module_version": "1.2.0",
            "_view_name": "StyleView",
            "description_width": "",
            "handle_color": null
          }
        },
        "7458e3019d9346eb8c43cb4270920cc0": {
          "model_module": "@jupyter-widgets/base",
          "model_module_version": "1.2.0",
          "model_name": "LayoutModel",
          "state": {
            "_model_module": "@jupyter-widgets/base",
            "_model_module_version": "1.2.0",
            "_model_name": "LayoutModel",
            "_view_count": null,
            "_view_module": "@jupyter-widgets/base",
            "_view_module_version": "1.2.0",
            "_view_name": "LayoutView",
            "align_content": null,
            "align_items": null,
            "align_self": null,
            "border": null,
            "bottom": null,
            "display": null,
            "flex": null,
            "flex_flow": null,
            "grid_area": null,
            "grid_auto_columns": null,
            "grid_auto_flow": null,
            "grid_auto_rows": null,
            "grid_column": null,
            "grid_gap": null,
            "grid_row": null,
            "grid_template_areas": null,
            "grid_template_columns": null,
            "grid_template_rows": null,
            "height": null,
            "justify_content": null,
            "justify_items": null,
            "left": null,
            "margin": null,
            "max_height": null,
            "max_width": null,
            "min_height": null,
            "min_width": null,
            "object_fit": null,
            "object_position": null,
            "order": null,
            "overflow": null,
            "overflow_x": null,
            "overflow_y": null,
            "padding": null,
            "right": null,
            "top": null,
            "visibility": null,
            "width": null
          }
        },
        "7d7ce1975ed843cfaeb0992d9f48c6c0": {
          "model_module": "@jupyter-widgets/controls",
          "model_module_version": "1.5.0",
          "model_name": "SliderStyleModel",
          "state": {
            "_model_module": "@jupyter-widgets/controls",
            "_model_module_version": "1.5.0",
            "_model_name": "SliderStyleModel",
            "_view_count": null,
            "_view_module": "@jupyter-widgets/base",
            "_view_module_version": "1.2.0",
            "_view_name": "StyleView",
            "description_width": "",
            "handle_color": null
          }
        },
        "81656c00bf18496b9023d88a1df28170": {
          "model_module": "@jupyter-widgets/controls",
          "model_module_version": "1.5.0",
          "model_name": "DescriptionStyleModel",
          "state": {
            "_model_module": "@jupyter-widgets/controls",
            "_model_module_version": "1.5.0",
            "_model_name": "DescriptionStyleModel",
            "_view_count": null,
            "_view_module": "@jupyter-widgets/base",
            "_view_module_version": "1.2.0",
            "_view_name": "StyleView",
            "description_width": ""
          }
        },
        "835cfd5546e24a95a63aae7316ac44bb": {
          "model_module": "@jupyter-widgets/base",
          "model_module_version": "1.2.0",
          "model_name": "LayoutModel",
          "state": {
            "_model_module": "@jupyter-widgets/base",
            "_model_module_version": "1.2.0",
            "_model_name": "LayoutModel",
            "_view_count": null,
            "_view_module": "@jupyter-widgets/base",
            "_view_module_version": "1.2.0",
            "_view_name": "LayoutView",
            "align_content": null,
            "align_items": null,
            "align_self": null,
            "border": null,
            "bottom": null,
            "display": null,
            "flex": null,
            "flex_flow": null,
            "grid_area": null,
            "grid_auto_columns": null,
            "grid_auto_flow": null,
            "grid_auto_rows": null,
            "grid_column": null,
            "grid_gap": null,
            "grid_row": null,
            "grid_template_areas": null,
            "grid_template_columns": null,
            "grid_template_rows": null,
            "height": null,
            "justify_content": null,
            "justify_items": null,
            "left": null,
            "margin": null,
            "max_height": null,
            "max_width": null,
            "min_height": null,
            "min_width": null,
            "object_fit": null,
            "object_position": null,
            "order": null,
            "overflow": null,
            "overflow_x": null,
            "overflow_y": null,
            "padding": null,
            "right": null,
            "top": null,
            "visibility": null,
            "width": null
          }
        },
        "86ef691550df4f80a35910ab656c42fe": {
          "model_module": "@jupyter-widgets/controls",
          "model_module_version": "1.5.0",
          "model_name": "VBoxModel",
          "state": {
            "_dom_classes": [],
            "_model_module": "@jupyter-widgets/controls",
            "_model_module_version": "1.5.0",
            "_model_name": "VBoxModel",
            "_view_count": null,
            "_view_module": "@jupyter-widgets/controls",
            "_view_module_version": "1.5.0",
            "_view_name": "VBoxView",
            "box_style": "",
            "children": [
              "IPY_MODEL_cc76f1d1e35641bbaf949ea326a5759c",
              "IPY_MODEL_c6ca48e3729845d7aed62ffa7bb56d80",
              "IPY_MODEL_f2f09d8f5c5a4be3bbcf76842105f1f2",
              "IPY_MODEL_03ffafc3cc1b455883e27a14cf16d727",
              "IPY_MODEL_3d268536b14942018aab0e6d1244f42b",
              "IPY_MODEL_3de58509899f4e07b015a2fd53b87ebe",
              "IPY_MODEL_3cb416e4d6ed4c1badf6ecd567083ffe"
            ],
            "layout": "IPY_MODEL_54cecadd55584dd9bae1a636707a8358"
          }
        },
        "8aa71d497ae34835a2280966a9b7c66d": {
          "model_module": "@jupyter-widgets/controls",
          "model_module_version": "1.5.0",
          "model_name": "IntSliderModel",
          "state": {
            "_dom_classes": [],
            "_model_module": "@jupyter-widgets/controls",
            "_model_module_version": "1.5.0",
            "_model_name": "IntSliderModel",
            "_view_count": null,
            "_view_module": "@jupyter-widgets/controls",
            "_view_module_version": "1.5.0",
            "_view_name": "IntSliderView",
            "continuous_update": true,
            "description": "Patience",
            "description_tooltip": null,
            "disabled": false,
            "layout": "IPY_MODEL_64c7ce3ccf1441a7b1969aed4fc71363",
            "max": 60,
            "min": 5,
            "orientation": "horizontal",
            "readout": true,
            "readout_format": "d",
            "step": 5,
            "style": "IPY_MODEL_20ef2c99a00542f886908461f46c36cb",
            "value": 20
          }
        },
        "914a6a268d8b4e3f81d554f9b9ec81cf": {
          "model_module": "@jupyter-widgets/base",
          "model_module_version": "1.2.0",
          "model_name": "LayoutModel",
          "state": {
            "_model_module": "@jupyter-widgets/base",
            "_model_module_version": "1.2.0",
            "_model_name": "LayoutModel",
            "_view_count": null,
            "_view_module": "@jupyter-widgets/base",
            "_view_module_version": "1.2.0",
            "_view_name": "LayoutView",
            "align_content": null,
            "align_items": null,
            "align_self": null,
            "border": null,
            "bottom": null,
            "display": null,
            "flex": null,
            "flex_flow": null,
            "grid_area": null,
            "grid_auto_columns": null,
            "grid_auto_flow": null,
            "grid_auto_rows": null,
            "grid_column": null,
            "grid_gap": null,
            "grid_row": null,
            "grid_template_areas": null,
            "grid_template_columns": null,
            "grid_template_rows": null,
            "height": null,
            "justify_content": null,
            "justify_items": null,
            "left": null,
            "margin": null,
            "max_height": null,
            "max_width": null,
            "min_height": null,
            "min_width": null,
            "object_fit": null,
            "object_position": null,
            "order": null,
            "overflow": null,
            "overflow_x": null,
            "overflow_y": null,
            "padding": null,
            "right": null,
            "top": null,
            "visibility": null,
            "width": null
          }
        },
        "974757e831224c13b4e06325d4c57561": {
          "model_module": "@jupyter-widgets/base",
          "model_module_version": "1.2.0",
          "model_name": "LayoutModel",
          "state": {
            "_model_module": "@jupyter-widgets/base",
            "_model_module_version": "1.2.0",
            "_model_name": "LayoutModel",
            "_view_count": null,
            "_view_module": "@jupyter-widgets/base",
            "_view_module_version": "1.2.0",
            "_view_name": "LayoutView",
            "align_content": null,
            "align_items": null,
            "align_self": null,
            "border": null,
            "bottom": null,
            "display": null,
            "flex": null,
            "flex_flow": null,
            "grid_area": null,
            "grid_auto_columns": null,
            "grid_auto_flow": null,
            "grid_auto_rows": null,
            "grid_column": null,
            "grid_gap": null,
            "grid_row": null,
            "grid_template_areas": null,
            "grid_template_columns": null,
            "grid_template_rows": null,
            "height": null,
            "justify_content": null,
            "justify_items": null,
            "left": null,
            "margin": null,
            "max_height": null,
            "max_width": null,
            "min_height": null,
            "min_width": null,
            "object_fit": null,
            "object_position": null,
            "order": null,
            "overflow": null,
            "overflow_x": null,
            "overflow_y": null,
            "padding": null,
            "right": null,
            "top": null,
            "visibility": null,
            "width": null
          }
        },
        "9a9113b4e6bc48329a6a29333beb776a": {
          "model_module": "@jupyter-widgets/controls",
          "model_module_version": "1.5.0",
          "model_name": "DropdownModel",
          "state": {
            "_dom_classes": [],
            "_model_module": "@jupyter-widgets/controls",
            "_model_module_version": "1.5.0",
            "_model_name": "DropdownModel",
            "_options_labels": [
              "auto",
              "cuda",
              "cpu"
            ],
            "_view_count": null,
            "_view_module": "@jupyter-widgets/controls",
            "_view_module_version": "1.5.0",
            "_view_name": "DropdownView",
            "description": "Device",
            "description_tooltip": null,
            "disabled": false,
            "index": 1,
            "layout": "IPY_MODEL_2de9680ffd754f83b7614e27fc5b020a",
            "style": "IPY_MODEL_ec882de91bf64f9b9fdcd36a232a7c50"
          }
        },
        "9c3f7b36ed8c48a1b8a9969fd927fefd": {
          "model_module": "@jupyter-widgets/controls",
          "model_module_version": "1.5.0",
          "model_name": "DescriptionStyleModel",
          "state": {
            "_model_module": "@jupyter-widgets/controls",
            "_model_module_version": "1.5.0",
            "_model_name": "DescriptionStyleModel",
            "_view_count": null,
            "_view_module": "@jupyter-widgets/base",
            "_view_module_version": "1.2.0",
            "_view_name": "StyleView",
            "description_width": ""
          }
        },
        "9d9bb89b66b9451592909e1203cdf6a4": {
          "model_module": "@jupyter-widgets/controls",
          "model_module_version": "1.5.0",
          "model_name": "SliderStyleModel",
          "state": {
            "_model_module": "@jupyter-widgets/controls",
            "_model_module_version": "1.5.0",
            "_model_name": "SliderStyleModel",
            "_view_count": null,
            "_view_module": "@jupyter-widgets/base",
            "_view_module_version": "1.2.0",
            "_view_name": "StyleView",
            "description_width": "",
            "handle_color": null
          }
        },
        "a15d27b80acd491f9b1fdcebfe19d15c": {
          "model_module": "@jupyter-widgets/base",
          "model_module_version": "1.2.0",
          "model_name": "LayoutModel",
          "state": {
            "_model_module": "@jupyter-widgets/base",
            "_model_module_version": "1.2.0",
            "_model_name": "LayoutModel",
            "_view_count": null,
            "_view_module": "@jupyter-widgets/base",
            "_view_module_version": "1.2.0",
            "_view_name": "LayoutView",
            "align_content": null,
            "align_items": null,
            "align_self": null,
            "border": null,
            "bottom": null,
            "display": null,
            "flex": null,
            "flex_flow": null,
            "grid_area": null,
            "grid_auto_columns": null,
            "grid_auto_flow": null,
            "grid_auto_rows": null,
            "grid_column": null,
            "grid_gap": null,
            "grid_row": null,
            "grid_template_areas": null,
            "grid_template_columns": null,
            "grid_template_rows": null,
            "height": null,
            "justify_content": null,
            "justify_items": null,
            "left": null,
            "margin": null,
            "max_height": null,
            "max_width": null,
            "min_height": null,
            "min_width": null,
            "object_fit": null,
            "object_position": null,
            "order": null,
            "overflow": null,
            "overflow_x": null,
            "overflow_y": null,
            "padding": null,
            "right": null,
            "top": null,
            "visibility": null,
            "width": null
          }
        },
        "a2adba0677214420a181d8cb5c39d0b3": {
          "model_module": "@jupyter-widgets/controls",
          "model_module_version": "1.5.0",
          "model_name": "ButtonModel",
          "state": {
            "_dom_classes": [],
            "_model_module": "@jupyter-widgets/controls",
            "_model_module_version": "1.5.0",
            "_model_name": "ButtonModel",
            "_view_count": null,
            "_view_module": "@jupyter-widgets/controls",
            "_view_module_version": "1.5.0",
            "_view_name": "ButtonView",
            "button_style": "danger",
            "description": "Stop",
            "disabled": false,
            "icon": "stop",
            "layout": "IPY_MODEL_914a6a268d8b4e3f81d554f9b9ec81cf",
            "style": "IPY_MODEL_6fed0611fb9d41c7be38d5721cb7c35c",
            "tooltip": ""
          }
        },
        "abe724ccacf64456ad7c4384a250a6e5": {
          "model_module": "@jupyter-widgets/controls",
          "model_module_version": "1.5.0",
          "model_name": "TextModel",
          "state": {
            "_dom_classes": [],
            "_model_module": "@jupyter-widgets/controls",
            "_model_module_version": "1.5.0",
            "_model_name": "TextModel",
            "_view_count": null,
            "_view_module": "@jupyter-widgets/controls",
            "_view_module_version": "1.5.0",
            "_view_name": "TextView",
            "continuous_update": true,
            "description": "Seeds (comma-sep)",
            "description_tooltip": null,
            "disabled": false,
            "layout": "IPY_MODEL_c6591e6da6af46a6aa390c704d6ab0f7",
            "placeholder": "​",
            "style": "IPY_MODEL_81656c00bf18496b9023d88a1df28170",
            "value": "42,43,44,45,46"
          }
        },
        "adbbd51a294446cb852239f054020ceb": {
          "model_module": "@jupyter-widgets/controls",
          "model_module_version": "1.5.0",
          "model_name": "FloatLogSliderModel",
          "state": {
            "_dom_classes": [],
            "_model_module": "@jupyter-widgets/controls",
            "_model_module_version": "1.5.0",
            "_model_name": "FloatLogSliderModel",
            "_view_count": null,
            "_view_module": "@jupyter-widgets/controls",
            "_view_module_version": "1.5.0",
            "_view_name": "FloatLogSliderView",
            "base": 10,
            "continuous_update": true,
            "description": "Weight Decay",
            "description_tooltip": null,
            "disabled": false,
            "layout": "IPY_MODEL_835cfd5546e24a95a63aae7316ac44bb",
            "max": -2,
            "min": -6,
            "orientation": "horizontal",
            "readout": true,
            "readout_format": ".3g",
            "step": 0.2,
            "style": "IPY_MODEL_735458cb5f95449b8239fe018195f6b4",
            "value": 0.0001
          }
        },
        "b2fdc191e9b648d893f8790ce0f246ba": {
          "model_module": "@jupyter-widgets/controls",
          "model_module_version": "1.5.0",
          "model_name": "DescriptionStyleModel",
          "state": {
            "_model_module": "@jupyter-widgets/controls",
            "_model_module_version": "1.5.0",
            "_model_name": "DescriptionStyleModel",
            "_view_count": null,
            "_view_module": "@jupyter-widgets/base",
            "_view_module_version": "1.2.0",
            "_view_name": "StyleView",
            "description_width": ""
          }
        },
        "b4c143d87481470f9c9cb787249de337": {
          "model_module": "@jupyter-widgets/base",
          "model_module_version": "1.2.0",
          "model_name": "LayoutModel",
          "state": {
            "_model_module": "@jupyter-widgets/base",
            "_model_module_version": "1.2.0",
            "_model_name": "LayoutModel",
            "_view_count": null,
            "_view_module": "@jupyter-widgets/base",
            "_view_module_version": "1.2.0",
            "_view_name": "LayoutView",
            "align_content": null,
            "align_items": null,
            "align_self": null,
            "border": null,
            "bottom": null,
            "display": null,
            "flex": null,
            "flex_flow": null,
            "grid_area": null,
            "grid_auto_columns": null,
            "grid_auto_flow": null,
            "grid_auto_rows": null,
            "grid_column": null,
            "grid_gap": null,
            "grid_row": null,
            "grid_template_areas": null,
            "grid_template_columns": null,
            "grid_template_rows": null,
            "height": null,
            "justify_content": null,
            "justify_items": null,
            "left": null,
            "margin": null,
            "max_height": null,
            "max_width": null,
            "min_height": null,
            "min_width": null,
            "object_fit": null,
            "object_position": null,
            "order": null,
            "overflow": null,
            "overflow_x": null,
            "overflow_y": null,
            "padding": null,
            "right": null,
            "top": null,
            "visibility": null,
            "width": null
          }
        },
        "bcb6d6e9a4144ff499a6f703583ee88f": {
          "model_module": "@jupyter-widgets/base",
          "model_module_version": "1.2.0",
          "model_name": "LayoutModel",
          "state": {
            "_model_module": "@jupyter-widgets/base",
            "_model_module_version": "1.2.0",
            "_model_name": "LayoutModel",
            "_view_count": null,
            "_view_module": "@jupyter-widgets/base",
            "_view_module_version": "1.2.0",
            "_view_name": "LayoutView",
            "align_content": null,
            "align_items": null,
            "align_self": null,
            "border": null,
            "bottom": null,
            "display": null,
            "flex": null,
            "flex_flow": null,
            "grid_area": null,
            "grid_auto_columns": null,
            "grid_auto_flow": null,
            "grid_auto_rows": null,
            "grid_column": null,
            "grid_gap": null,
            "grid_row": null,
            "grid_template_areas": null,
            "grid_template_columns": null,
            "grid_template_rows": null,
            "height": null,
            "justify_content": null,
            "justify_items": null,
            "left": null,
            "margin": null,
            "max_height": null,
            "max_width": null,
            "min_height": null,
            "min_width": null,
            "object_fit": null,
            "object_position": null,
            "order": null,
            "overflow": null,
            "overflow_x": null,
            "overflow_y": null,
            "padding": null,
            "right": null,
            "top": null,
            "visibility": null,
            "width": null
          }
        },
        "c6591e6da6af46a6aa390c704d6ab0f7": {
          "model_module": "@jupyter-widgets/base",
          "model_module_version": "1.2.0",
          "model_name": "LayoutModel",
          "state": {
            "_model_module": "@jupyter-widgets/base",
            "_model_module_version": "1.2.0",
            "_model_name": "LayoutModel",
            "_view_count": null,
            "_view_module": "@jupyter-widgets/base",
            "_view_module_version": "1.2.0",
            "_view_name": "LayoutView",
            "align_content": null,
            "align_items": null,
            "align_self": null,
            "border": null,
            "bottom": null,
            "display": null,
            "flex": null,
            "flex_flow": null,
            "grid_area": null,
            "grid_auto_columns": null,
            "grid_auto_flow": null,
            "grid_auto_rows": null,
            "grid_column": null,
            "grid_gap": null,
            "grid_row": null,
            "grid_template_areas": null,
            "grid_template_columns": null,
            "grid_template_rows": null,
            "height": null,
            "justify_content": null,
            "justify_items": null,
            "left": null,
            "margin": null,
            "max_height": null,
            "max_width": null,
            "min_height": null,
            "min_width": null,
            "object_fit": null,
            "object_position": null,
            "order": null,
            "overflow": null,
            "overflow_x": null,
            "overflow_y": null,
            "padding": null,
            "right": null,
            "top": null,
            "visibility": null,
            "width": null
          }
        },
        "c6ca48e3729845d7aed62ffa7bb56d80": {
          "model_module": "@jupyter-widgets/controls",
          "model_module_version": "1.5.0",
          "model_name": "HBoxModel",
          "state": {
            "_dom_classes": [],
            "_model_module": "@jupyter-widgets/controls",
            "_model_module_version": "1.5.0",
            "_model_name": "HBoxModel",
            "_view_count": null,
            "_view_module": "@jupyter-widgets/controls",
            "_view_module_version": "1.5.0",
            "_view_name": "HBoxView",
            "box_style": "",
            "children": [
              "IPY_MODEL_abe724ccacf64456ad7c4384a250a6e5",
              "IPY_MODEL_2a86119f06de4f8eb4e5ee2614abd0bb",
              "IPY_MODEL_8aa71d497ae34835a2280966a9b7c66d"
            ],
            "layout": "IPY_MODEL_6a92d6f99f9042c99ec7235d1ac55b02"
          }
        },
        "cc76f1d1e35641bbaf949ea326a5759c": {
          "model_module": "@jupyter-widgets/controls",
          "model_module_version": "1.5.0",
          "model_name": "HBoxModel",
          "state": {
            "_dom_classes": [],
            "_model_module": "@jupyter-widgets/controls",
            "_model_module_version": "1.5.0",
            "_model_name": "HBoxModel",
            "_view_count": null,
            "_view_module": "@jupyter-widgets/controls",
            "_view_module_version": "1.5.0",
            "_view_name": "HBoxView",
            "box_style": "",
            "children": [
              "IPY_MODEL_efb68442f1434b0f8dbe991200ad110c",
              "IPY_MODEL_2ffd72b0c23148f6ad3602a002b6de93",
              "IPY_MODEL_5e4f6e378f344f7cbb427a551d0b4fc5"
            ],
            "layout": "IPY_MODEL_bcb6d6e9a4144ff499a6f703583ee88f"
          }
        },
        "dc9cce39f8354d61a11a84e509c10b92": {
          "model_module": "@jupyter-widgets/base",
          "model_module_version": "1.2.0",
          "model_name": "LayoutModel",
          "state": {
            "_model_module": "@jupyter-widgets/base",
            "_model_module_version": "1.2.0",
            "_model_name": "LayoutModel",
            "_view_count": null,
            "_view_module": "@jupyter-widgets/base",
            "_view_module_version": "1.2.0",
            "_view_name": "LayoutView",
            "align_content": null,
            "align_items": null,
            "align_self": null,
            "border": null,
            "bottom": null,
            "display": null,
            "flex": null,
            "flex_flow": null,
            "grid_area": null,
            "grid_auto_columns": null,
            "grid_auto_flow": null,
            "grid_auto_rows": null,
            "grid_column": null,
            "grid_gap": null,
            "grid_row": null,
            "grid_template_areas": null,
            "grid_template_columns": null,
            "grid_template_rows": null,
            "height": null,
            "justify_content": null,
            "justify_items": null,
            "left": null,
            "margin": null,
            "max_height": null,
            "max_width": null,
            "min_height": null,
            "min_width": null,
            "object_fit": null,
            "object_position": null,
            "order": null,
            "overflow": null,
            "overflow_x": null,
            "overflow_y": null,
            "padding": null,
            "right": null,
            "top": null,
            "visibility": null,
            "width": null
          }
        },
        "e6cfdf7d48a54aa7860bcd73dc84aaed": {
          "model_module": "@jupyter-widgets/controls",
          "model_module_version": "1.5.0",
          "model_name": "SliderStyleModel",
          "state": {
            "_model_module": "@jupyter-widgets/controls",
            "_model_module_version": "1.5.0",
            "_model_name": "SliderStyleModel",
            "_view_count": null,
            "_view_module": "@jupyter-widgets/base",
            "_view_module_version": "1.2.0",
            "_view_name": "StyleView",
            "description_width": "",
            "handle_color": null
          }
        },
        "e7e491e09c324ca6becadf56c99882e6": {
          "model_module": "@jupyter-widgets/controls",
          "model_module_version": "1.5.0",
          "model_name": "DescriptionStyleModel",
          "state": {
            "_model_module": "@jupyter-widgets/controls",
            "_model_module_version": "1.5.0",
            "_model_name": "DescriptionStyleModel",
            "_view_count": null,
            "_view_module": "@jupyter-widgets/base",
            "_view_module_version": "1.2.0",
            "_view_name": "StyleView",
            "description_width": ""
          }
        },
        "ec882de91bf64f9b9fdcd36a232a7c50": {
          "model_module": "@jupyter-widgets/controls",
          "model_module_version": "1.5.0",
          "model_name": "DescriptionStyleModel",
          "state": {
            "_model_module": "@jupyter-widgets/controls",
            "_model_module_version": "1.5.0",
            "_model_name": "DescriptionStyleModel",
            "_view_count": null,
            "_view_module": "@jupyter-widgets/base",
            "_view_module_version": "1.2.0",
            "_view_name": "StyleView",
            "description_width": ""
          }
        },
        "efb68442f1434b0f8dbe991200ad110c": {
          "model_module": "@jupyter-widgets/controls",
          "model_module_version": "1.5.0",
          "model_name": "DropdownModel",
          "state": {
            "_dom_classes": [],
            "_model_module": "@jupyter-widgets/controls",
            "_model_module_version": "1.5.0",
            "_model_name": "DropdownModel",
            "_options_labels": [
              "cifar10",
              "mnist"
            ],
            "_view_count": null,
            "_view_module": "@jupyter-widgets/controls",
            "_view_module_version": "1.5.0",
            "_view_name": "DropdownView",
            "description": "Dataset",
            "description_tooltip": null,
            "disabled": false,
            "index": 0,
            "layout": "IPY_MODEL_21e413c62cbb4d1085584c71740c59f6",
            "style": "IPY_MODEL_1f918d66e5804d53aa3453acd45ddac5"
          }
        },
        "f2f09d8f5c5a4be3bbcf76842105f1f2": {
          "model_module": "@jupyter-widgets/controls",
          "model_module_version": "1.5.0",
          "model_name": "HBoxModel",
          "state": {
            "_dom_classes": [],
            "_model_module": "@jupyter-widgets/controls",
            "_model_module_version": "1.5.0",
            "_model_name": "HBoxModel",
            "_view_count": null,
            "_view_module": "@jupyter-widgets/controls",
            "_view_module_version": "1.5.0",
            "_view_name": "HBoxView",
            "box_style": "",
            "children": [
              "IPY_MODEL_70c67f0bce0d46f7b9d91abefa23e495",
              "IPY_MODEL_adbbd51a294446cb852239f054020ceb",
              "IPY_MODEL_4a2dee57bc504e48b233213007c6e30d"
            ],
            "layout": "IPY_MODEL_2f8cdee8e00448d4be967422f47df1d9"
          }
        }
      }
    }
  },
  "nbformat": 4,
  "nbformat_minor": 0
}
